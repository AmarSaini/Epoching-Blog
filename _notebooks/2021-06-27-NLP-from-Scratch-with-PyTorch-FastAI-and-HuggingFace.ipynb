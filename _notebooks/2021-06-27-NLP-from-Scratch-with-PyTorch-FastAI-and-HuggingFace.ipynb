{
 "cells": [
  {
   "cell_type": "markdown",
   "metadata": {
    "heading_collapsed": true
   },
   "source": [
    "# NLP from Scratch with PyTorch, fastai, and HuggingFace\n",
    "> A technical NLP tutorial using a variety of libraries to show the different levels/layers of common NLP pipelines\n",
    "\n",
    "- toc: true \n",
    "- badges: true\n",
    "- comments: true\n",
    "- categories: [jupyter, nlp, pytorch, fastai, huggingface]\n",
    "- image: images/pfh.png"
   ]
  },
  {
   "cell_type": "markdown",
   "metadata": {
    "heading_collapsed": true
   },
   "source": [
    "# 0. Introduction"
   ]
  },
  {
   "cell_type": "markdown",
   "metadata": {
    "hidden": true
   },
   "source": [
    "Welcome! In this blog post/notebook, we'll be looking at NLP with 3 different methods:\n",
    "\n",
    "- From Scratch/Ground-Up, with [PyTorch](https://pytorch.org/)\n",
    "- FastAI Language Model ([AWD-LSTM](https://docs.fast.ai/text.models.awdlstm.html#AWD_LSTM))\n",
    "- HuggingFace Transformers ([DistilBERT](https://huggingface.co/transformers/model_doc/distilbert.html))\n",
    "\n",
    "All 3 methods will utilize fastai to assist with keeping things organized and help with training the models, given the libary's ease of use through it's lovely [Layered-API](https://www.fast.ai/2020/02/13/fastai-A-Layered-API-for-Deep-Learning/)!"
   ]
  },
  {
   "cell_type": "code",
   "execution_count": 1,
   "metadata": {
    "ExecuteTime": {
     "end_time": "2021-06-27T21:14:13.898323Z",
     "start_time": "2021-06-27T21:14:13.896085Z"
    },
    "hidden": true
   },
   "outputs": [],
   "source": [
    "#hide\n",
    "\n",
    "# Uncomment the below cells if you need to install everything!\n",
    "\n",
    "# !pip install torch==1.9.0\n",
    "# !pip install torchtext==0.10\n",
    "# !pip install transformers==4.7\n",
    "# !pip install fastai==2.4"
   ]
  },
  {
   "cell_type": "markdown",
   "metadata": {
    "heading_collapsed": true,
    "tags": []
   },
   "source": [
    "# 1. Looking at the Data [Pandas]"
   ]
  },
  {
   "cell_type": "markdown",
   "metadata": {
    "hidden": true
   },
   "source": [
    "For this notebook, we'll be looking at the Amazon Reviews Polarity dataset! The task is to predict whether a review is of positive or negative sentiment. The original Amazon Reviews dataset contains review scores ranging from 1-5. This polarity dataset combines review scores 1-2 into the negative class, 4-5 into the positive class, and ignores/drops review scores of 3!"
   ]
  },
  {
   "cell_type": "code",
   "execution_count": 2,
   "metadata": {
    "ExecuteTime": {
     "end_time": "2021-06-27T21:14:17.505354Z",
     "start_time": "2021-06-27T21:14:13.946340Z"
    },
    "hidden": true
   },
   "outputs": [],
   "source": [
    "from fastai.text.all import *\n",
    "import pandas as pd"
   ]
  },
  {
   "cell_type": "code",
   "execution_count": 3,
   "metadata": {
    "ExecuteTime": {
     "end_time": "2021-06-27T21:14:17.521559Z",
     "start_time": "2021-06-27T21:14:17.507484Z"
    },
    "hidden": true
   },
   "outputs": [
    {
     "data": {
      "text/plain": [
       "Path('/home/saini5/.fastai/data/amazon_review_polarity_csv')"
      ]
     },
     "execution_count": 3,
     "metadata": {},
     "output_type": "execute_result"
    }
   ],
   "source": [
    "path = untar_data(URLs.AMAZON_REVIEWS_POLARITY)\n",
    "path"
   ]
  },
  {
   "cell_type": "code",
   "execution_count": 4,
   "metadata": {
    "ExecuteTime": {
     "end_time": "2021-06-27T21:14:17.525730Z",
     "start_time": "2021-06-27T21:14:17.522965Z"
    },
    "hidden": true,
    "scrolled": true
   },
   "outputs": [
    {
     "data": {
      "text/plain": [
       "(#3) [Path('/home/saini5/.fastai/data/amazon_review_polarity_csv/train.csv'),Path('/home/saini5/.fastai/data/amazon_review_polarity_csv/readme.txt'),Path('/home/saini5/.fastai/data/amazon_review_polarity_csv/test.csv')]"
      ]
     },
     "execution_count": 4,
     "metadata": {},
     "output_type": "execute_result"
    }
   ],
   "source": [
    "path.ls()"
   ]
  },
  {
   "cell_type": "markdown",
   "metadata": {
    "hidden": true
   },
   "source": [
    "Let's go ahead and take a look at our two df's: `train_df` and `valid_df`"
   ]
  },
  {
   "cell_type": "markdown",
   "metadata": {
    "hidden": true
   },
   "source": [
    "> Note: We're going to use 40k instead of 3.6m samples for training, and 2k instead of 400k samples for validation"
   ]
  },
  {
   "cell_type": "code",
   "execution_count": 5,
   "metadata": {
    "ExecuteTime": {
     "end_time": "2021-06-27T21:14:17.691961Z",
     "start_time": "2021-06-27T21:14:17.527042Z"
    },
    "hidden": true
   },
   "outputs": [
    {
     "data": {
      "text/html": [
       "<div>\n",
       "<style scoped>\n",
       "    .dataframe tbody tr th:only-of-type {\n",
       "        vertical-align: middle;\n",
       "    }\n",
       "\n",
       "    .dataframe tbody tr th {\n",
       "        vertical-align: top;\n",
       "    }\n",
       "\n",
       "    .dataframe thead th {\n",
       "        text-align: right;\n",
       "    }\n",
       "</style>\n",
       "<table border=\"1\" class=\"dataframe\">\n",
       "  <thead>\n",
       "    <tr style=\"text-align: right;\">\n",
       "      <th></th>\n",
       "      <th>label</th>\n",
       "      <th>title</th>\n",
       "      <th>text</th>\n",
       "    </tr>\n",
       "  </thead>\n",
       "  <tbody>\n",
       "    <tr>\n",
       "      <th>0</th>\n",
       "      <td>2</td>\n",
       "      <td>Stuning even for the non-gamer</td>\n",
       "      <td>This sound track was beautiful! It paints the senery in your mind so well I would recomend it even to people who hate vid. game music! I have played the game Chrono Cross but out of all of the games I have ever played it has the best music! It backs away from crude keyboarding and takes a fresher step with grate guitars and soulful orchestras. It would impress anyone who cares to listen! ^_^</td>\n",
       "    </tr>\n",
       "    <tr>\n",
       "      <th>1</th>\n",
       "      <td>2</td>\n",
       "      <td>The best soundtrack ever to anything.</td>\n",
       "      <td>I'm reading a lot of reviews saying that this is the best 'game soundtrack' and I figured that I'd write a review to disagree a bit. This in my opinino is Yasunori Mitsuda's ultimate masterpiece. The music is timeless and I'm been listening to it for years now and its beauty simply refuses to fade.The price tag on this is pretty staggering I must say, but if you are going to buy any cd for this much money, this is the only one that I feel would be worth every penny.</td>\n",
       "    </tr>\n",
       "    <tr>\n",
       "      <th>2</th>\n",
       "      <td>2</td>\n",
       "      <td>Amazing!</td>\n",
       "      <td>This soundtrack is my favorite music of all time, hands down. The intense sadness of \"Prisoners of Fate\" (which means all the more if you've played the game) and the hope in \"A Distant Promise\" and \"Girl who Stole the Star\" have been an important inspiration to me personally throughout my teen years. The higher energy tracks like \"Chrono Cross ~ Time's Scar~\", \"Time of the Dreamwatch\", and \"Chronomantique\" (indefinably remeniscent of Chrono Trigger) are all absolutely superb as well.This soundtrack is amazing music, probably the best of this composer's work (I haven't heard the Xenogears s...</td>\n",
       "    </tr>\n",
       "    <tr>\n",
       "      <th>3</th>\n",
       "      <td>2</td>\n",
       "      <td>Excellent Soundtrack</td>\n",
       "      <td>I truly like this soundtrack and I enjoy video game music. I have played this game and most of the music on here I enjoy and it's truly relaxing and peaceful.On disk one. my favorites are Scars Of Time, Between Life and Death, Forest Of Illusion, Fortress of Ancient Dragons, Lost Fragment, and Drowned Valley.Disk Two: The Draggons, Galdorb - Home, Chronomantique, Prisoners of Fate, Gale, and my girlfriend likes ZelbessDisk Three: The best of the three. Garden Of God, Chronopolis, Fates, Jellyfish sea, Burning Orphange, Dragon's Prayer, Tower Of Stars, Dragon God, and Radical Dreamers - Uns...</td>\n",
       "    </tr>\n",
       "    <tr>\n",
       "      <th>4</th>\n",
       "      <td>2</td>\n",
       "      <td>Remember, Pull Your Jaw Off The Floor After Hearing it</td>\n",
       "      <td>If you've played the game, you know how divine the music is! Every single song tells a story of the game, it's that good! The greatest songs are without a doubt, Chrono Cross: Time's Scar, Magical Dreamers: The Wind, The Stars, and the Sea and Radical Dreamers: Unstolen Jewel. (Translation varies) This music is perfect if you ask me, the best it can be. Yasunori Mitsuda just poured his heart on and wrote it down on paper.</td>\n",
       "    </tr>\n",
       "  </tbody>\n",
       "</table>\n",
       "</div>"
      ],
      "text/plain": [
       "   label                                                   title  \\\n",
       "0      2                          Stuning even for the non-gamer   \n",
       "1      2                   The best soundtrack ever to anything.   \n",
       "2      2                                                Amazing!   \n",
       "3      2                                    Excellent Soundtrack   \n",
       "4      2  Remember, Pull Your Jaw Off The Floor After Hearing it   \n",
       "\n",
       "                                                                                                                                                                                                                                                                                                                                                                                                                                                                                                                                                                                                                      text  \n",
       "0                                                                                                                                                                                                               This sound track was beautiful! It paints the senery in your mind so well I would recomend it even to people who hate vid. game music! I have played the game Chrono Cross but out of all of the games I have ever played it has the best music! It backs away from crude keyboarding and takes a fresher step with grate guitars and soulful orchestras. It would impress anyone who cares to listen! ^_^  \n",
       "1                                                                                                                                   I'm reading a lot of reviews saying that this is the best 'game soundtrack' and I figured that I'd write a review to disagree a bit. This in my opinino is Yasunori Mitsuda's ultimate masterpiece. The music is timeless and I'm been listening to it for years now and its beauty simply refuses to fade.The price tag on this is pretty staggering I must say, but if you are going to buy any cd for this much money, this is the only one that I feel would be worth every penny.  \n",
       "2  This soundtrack is my favorite music of all time, hands down. The intense sadness of \"Prisoners of Fate\" (which means all the more if you've played the game) and the hope in \"A Distant Promise\" and \"Girl who Stole the Star\" have been an important inspiration to me personally throughout my teen years. The higher energy tracks like \"Chrono Cross ~ Time's Scar~\", \"Time of the Dreamwatch\", and \"Chronomantique\" (indefinably remeniscent of Chrono Trigger) are all absolutely superb as well.This soundtrack is amazing music, probably the best of this composer's work (I haven't heard the Xenogears s...  \n",
       "3  I truly like this soundtrack and I enjoy video game music. I have played this game and most of the music on here I enjoy and it's truly relaxing and peaceful.On disk one. my favorites are Scars Of Time, Between Life and Death, Forest Of Illusion, Fortress of Ancient Dragons, Lost Fragment, and Drowned Valley.Disk Two: The Draggons, Galdorb - Home, Chronomantique, Prisoners of Fate, Gale, and my girlfriend likes ZelbessDisk Three: The best of the three. Garden Of God, Chronopolis, Fates, Jellyfish sea, Burning Orphange, Dragon's Prayer, Tower Of Stars, Dragon God, and Radical Dreamers - Uns...  \n",
       "4                                                                                                                                                                                If you've played the game, you know how divine the music is! Every single song tells a story of the game, it's that good! The greatest songs are without a doubt, Chrono Cross: Time's Scar, Magical Dreamers: The Wind, The Stars, and the Sea and Radical Dreamers: Unstolen Jewel. (Translation varies) This music is perfect if you ask me, the best it can be. Yasunori Mitsuda just poured his heart on and wrote it down on paper.  "
      ]
     },
     "execution_count": 5,
     "metadata": {},
     "output_type": "execute_result"
    }
   ],
   "source": [
    "train_df = pd.read_csv(path/'train.csv', names=['label', 'title', 'text'], nrows=40000)\n",
    "valid_df = pd.read_csv(path/'test.csv', names=['label', 'title', 'text'], nrows=2000)\n",
    "train_df.head()"
   ]
  },
  {
   "cell_type": "markdown",
   "metadata": {
    "hidden": true
   },
   "source": [
    "> Note: label 1 is negative sentiment and label 2 is positive sentiment"
   ]
  },
  {
   "cell_type": "code",
   "execution_count": 6,
   "metadata": {
    "ExecuteTime": {
     "end_time": "2021-06-27T21:14:17.695684Z",
     "start_time": "2021-06-27T21:14:17.693086Z"
    },
    "hidden": true,
    "run_control": {
     "marked": false
    }
   },
   "outputs": [
    {
     "data": {
      "text/plain": [
       "(40000, 2000)"
      ]
     },
     "execution_count": 6,
     "metadata": {},
     "output_type": "execute_result"
    }
   ],
   "source": [
    "len(train_df), len(valid_df)"
   ]
  },
  {
   "cell_type": "markdown",
   "metadata": {
    "heading_collapsed": true,
    "tags": []
   },
   "source": [
    "# 2. Tokenization and Numericalization [PyTorch]"
   ]
  },
  {
   "cell_type": "markdown",
   "metadata": {
    "hidden": true
   },
   "source": [
    "We now want to first tokenize our inputs, then numericalize them using a vocab. Quick recap of these terms:\n",
    "\n",
    "- *Tokenization* = The process of converting an input string into \"pieces\"\n",
    "  - These pieces can be **whole words**, **sub words**, or even **characters**\n",
    "- *Numericalization* = The process of converting a token into a numeric representation\n",
    "  - (e.g. token -> number)\n",
    "  - This is done through the use (and creation of) a **vocab**"
   ]
  },
  {
   "cell_type": "markdown",
   "metadata": {
    "hidden": true
   },
   "source": [
    "There are many fancy tokenizers out there, but since we're first doing things from scratch we'll go ahead and use a simple `basic_english` tokenizer from `torchtext` and split on spaces"
   ]
  },
  {
   "cell_type": "markdown",
   "metadata": {
    "hidden": true
   },
   "source": [
    "> Tip: More popular tokenizer pipelines can be found in libraries such as [SpaCy](https://spacy.io/api/tokenizer), [HuggingFace](https://huggingface.co/transformers/main_classes/tokenizer.html), and [fastai](https://docs.fast.ai/text.core.html#Tokenizing)!"
   ]
  },
  {
   "cell_type": "code",
   "execution_count": 7,
   "metadata": {
    "ExecuteTime": {
     "end_time": "2021-06-27T21:14:17.704093Z",
     "start_time": "2021-06-27T21:14:17.696756Z"
    },
    "hidden": true
   },
   "outputs": [
    {
     "data": {
      "text/plain": [
       "'This sound track was beautiful! It paints the senery in your mind so well I would recomend it even to people who hate vid. game music! I have played the game Chrono Cross but out of all of the games I have ever played it has the best music! It backs away from crude keyboarding and takes a fresher step with grate guitars and soulful orchestras. It would impress anyone who cares to listen! ^_^'"
      ]
     },
     "execution_count": 7,
     "metadata": {},
     "output_type": "execute_result"
    }
   ],
   "source": [
    "sample_text = train_df['text'][0]\n",
    "sample_text"
   ]
  },
  {
   "cell_type": "code",
   "execution_count": 8,
   "metadata": {
    "ExecuteTime": {
     "end_time": "2021-06-27T21:14:17.789971Z",
     "start_time": "2021-06-27T21:14:17.705231Z"
    },
    "hidden": true
   },
   "outputs": [],
   "source": [
    "import torch\n",
    "import torchtext\n",
    "from torchtext.data import get_tokenizer\n",
    "\n",
    "tokenizer = get_tokenizer(\"basic_english\")"
   ]
  },
  {
   "cell_type": "markdown",
   "metadata": {
    "hidden": true
   },
   "source": [
    "> Tip: Reminder that fastai's `L` is basically `list` from Python, but has some convienent properties such as displaying the number of elements, and  additionally doesn't spam your screen with output if the list is too long!"
   ]
  },
  {
   "cell_type": "code",
   "execution_count": 9,
   "metadata": {
    "ExecuteTime": {
     "end_time": "2021-06-27T21:14:17.793636Z",
     "start_time": "2021-06-27T21:14:17.791082Z"
    },
    "hidden": true,
    "scrolled": true
   },
   "outputs": [
    {
     "data": {
      "text/plain": [
       "(#81) ['this','sound','track','was','beautiful','!','it','paints','the','senery'...]"
      ]
     },
     "execution_count": 9,
     "metadata": {},
     "output_type": "execute_result"
    }
   ],
   "source": [
    "tokens = L(tokenizer(sample_text))\n",
    "tokens"
   ]
  },
  {
   "cell_type": "markdown",
   "metadata": {
    "hidden": true
   },
   "source": [
    "> Note: Since we're using a full word tokenizer, many of these words will be quite infrequent, such as typos or words with repetiting characters like `Dudeeeee`. Other tokenizers can use rules to better handle splitting of big words through subword tokenization, and can also handle numbers like prices as well. This would help with optimizing the **vocab's embedding table** as well as reducing the number of `<unk>` tokens."
   ]
  },
  {
   "cell_type": "markdown",
   "metadata": {
    "hidden": true
   },
   "source": [
    "Next we'll need to check how many tokens there are in our dataset, and keep the frequent ones as part of our vocab."
   ]
  },
  {
   "cell_type": "code",
   "execution_count": 10,
   "metadata": {
    "ExecuteTime": {
     "end_time": "2021-06-27T21:14:19.504663Z",
     "start_time": "2021-06-27T21:14:17.795662Z"
    },
    "hidden": true
   },
   "outputs": [
    {
     "data": {
      "text/plain": [
       "[('.', 213962),\n",
       " ('the', 158787),\n",
       " (',', 116525),\n",
       " ('i', 91270),\n",
       " ('and', 86059),\n",
       " ('a', 77977),\n",
       " ('to', 74984),\n",
       " ('it', 69999),\n",
       " ('of', 65144),\n",
       " (\"'\", 60523),\n",
       " ('this', 59382),\n",
       " ('is', 56445),\n",
       " ('in', 37890),\n",
       " ('that', 33891),\n",
       " ('for', 30532),\n",
       " ('was', 29163),\n",
       " ('you', 26740),\n",
       " ('!', 25238),\n",
       " ('book', 24698),\n",
       " ('s', 23897),\n",
       " ('but', 22602),\n",
       " ('with', 21998),\n",
       " ('not', 21988),\n",
       " ('on', 20759),\n",
       " ('t', 20097)]"
      ]
     },
     "execution_count": 10,
     "metadata": {},
     "output_type": "execute_result"
    }
   ],
   "source": [
    "from collections import Counter\n",
    "\n",
    "token_counter = Counter()\n",
    "\n",
    "for sample_text in train_df['text']:\n",
    "    tokens = tokenizer(sample_text)\n",
    "    token_counter.update(tokens)\n",
    "\n",
    "token_counter.most_common(n=25)"
   ]
  },
  {
   "cell_type": "markdown",
   "metadata": {
    "ExecuteTime": {
     "end_time": "2021-06-27T00:58:30.715964Z",
     "start_time": "2021-06-27T00:58:30.711482Z"
    },
    "hidden": true
   },
   "source": [
    "> Note: The top 25 most common tokens are listed above! Let's see what the least frequent tokens look like:"
   ]
  },
  {
   "cell_type": "code",
   "execution_count": 11,
   "metadata": {
    "ExecuteTime": {
     "end_time": "2021-06-27T21:14:19.526145Z",
     "start_time": "2021-06-27T21:14:19.506559Z"
    },
    "hidden": true
   },
   "outputs": [
    {
     "data": {
      "text/plain": [
       "[('knorflefob', 1),\n",
       " ('<<dan', 1),\n",
       " ('bg', 1),\n",
       " ('apquire$', 1),\n",
       " ('gtube', 1),\n",
       " ('chafe', 1),\n",
       " ('lubricates', 1),\n",
       " ('lubricate', 1),\n",
       " ('flights/vacation', 1),\n",
       " ('lambdin', 1),\n",
       " ('trafalgar', 1),\n",
       " ('bloodedly', 1),\n",
       " ('undifferentiated', 1),\n",
       " ('code--no', 1),\n",
       " ('exciting--because', 1),\n",
       " ('nicaea', 1),\n",
       " ('full-grown', 1),\n",
       " ('yon', 1),\n",
       " ('medium-to-large', 1),\n",
       " ('ms-supplied', 1),\n",
       " ('well@@', 1),\n",
       " ('in-touch', 1),\n",
       " ('*ms', 1),\n",
       " ('specialist*', 1),\n",
       " ('schapiro', 1)]"
      ]
     },
     "execution_count": 11,
     "metadata": {},
     "output_type": "execute_result"
    }
   ],
   "source": [
    "token_counter.most_common()[-25:]"
   ]
  },
  {
   "cell_type": "code",
   "execution_count": 12,
   "metadata": {
    "ExecuteTime": {
     "end_time": "2021-06-27T21:14:19.533607Z",
     "start_time": "2021-06-27T21:14:19.527330Z"
    },
    "hidden": true
   },
   "outputs": [
    {
     "data": {
      "text/plain": [
       "75889"
      ]
     },
     "execution_count": 12,
     "metadata": {},
     "output_type": "execute_result"
    }
   ],
   "source": [
    "len(token_counter)"
   ]
  },
  {
   "cell_type": "code",
   "execution_count": 13,
   "metadata": {
    "ExecuteTime": {
     "end_time": "2021-06-27T21:14:19.541069Z",
     "start_time": "2021-06-27T21:14:19.534697Z"
    },
    "hidden": true
   },
   "outputs": [
    {
     "data": {
      "text/plain": [
       "(1, 5418)"
      ]
     },
     "execution_count": 13,
     "metadata": {},
     "output_type": "execute_result"
    }
   ],
   "source": [
    "token_counter['well@@'], token_counter['well']"
   ]
  },
  {
   "cell_type": "markdown",
   "metadata": {
    "ExecuteTime": {
     "end_time": "2021-06-27T00:59:10.103727Z",
     "start_time": "2021-06-27T00:59:10.100393Z"
    },
    "hidden": true
   },
   "source": [
    "> Important: There were **78,157** unique tokens! It's interesting seeing that some of them are typos, or just have additional characters attached to the word, such as `well@@` instead of `well`"
   ]
  },
  {
   "cell_type": "markdown",
   "metadata": {
    "hidden": true
   },
   "source": [
    "Now that we have our token frequency counter, we can go ahead and make our vocab!"
   ]
  },
  {
   "cell_type": "code",
   "execution_count": 14,
   "metadata": {
    "ExecuteTime": {
     "end_time": "2021-06-27T21:14:19.608961Z",
     "start_time": "2021-06-27T21:14:19.542138Z"
    },
    "hidden": true,
    "run_control": {
     "marked": false
    }
   },
   "outputs": [
    {
     "data": {
      "text/plain": [
       "(7591,\n",
       " ['<unk>',\n",
       "  '<pad>',\n",
       "  '.',\n",
       "  'the',\n",
       "  ',',\n",
       "  'i',\n",
       "  'and',\n",
       "  'a',\n",
       "  'to',\n",
       "  'it',\n",
       "  'of',\n",
       "  \"'\",\n",
       "  'this',\n",
       "  'is',\n",
       "  'in',\n",
       "  'that',\n",
       "  'for',\n",
       "  'was',\n",
       "  'you',\n",
       "  '!',\n",
       "  'book',\n",
       "  's',\n",
       "  'but',\n",
       "  'with',\n",
       "  'not'])"
      ]
     },
     "execution_count": 14,
     "metadata": {},
     "output_type": "execute_result"
    }
   ],
   "source": [
    "# Sort our counter so our vocab will have the most common tokens listed first\n",
    "sorted_counter = dict(token_counter.most_common())\n",
    "\n",
    "# Create vocab containing tokens with a minimum frequency of 20\n",
    "my_vocab = torchtext.vocab.vocab(sorted_counter, min_freq=20)\n",
    "\n",
    "# Add the unknown token, and use this by default for unknown words\n",
    "unk_token = '<unk>'\n",
    "my_vocab.insert_token(unk_token, 0)\n",
    "my_vocab.set_default_index(0)\n",
    "\n",
    "# Add the pad token\n",
    "pad_token = '<pad>'\n",
    "my_vocab.insert_token(pad_token, 1)\n",
    "\n",
    "# Show vocab size, and examples of tokens\n",
    "len(my_vocab.get_itos()), my_vocab.get_itos()[:25]"
   ]
  },
  {
   "cell_type": "markdown",
   "metadata": {
    "hidden": true
   },
   "source": [
    "> Important: We'll be using `<unk>` as our default token for tokens that are out of our vocab!"
   ]
  },
  {
   "cell_type": "markdown",
   "metadata": {
    "ExecuteTime": {
     "end_time": "2021-06-27T01:12:06.109916Z",
     "start_time": "2021-06-27T01:12:06.106558Z"
    },
    "hidden": true
   },
   "source": [
    "> Important: Notice how we passed in a `min_freq` argument. This ensures that the vocab only includes high frequency tokens. We wouldn't want to include tokens that only occur once/rarely. This brought our vocab count down from **75,889** to **7,591**! A **~90% reduction**!"
   ]
  },
  {
   "cell_type": "markdown",
   "metadata": {
    "hidden": true
   },
   "source": [
    "Rather than starting from scratch, we can preload GloVe embeddings into our vocabulary!"
   ]
  },
  {
   "cell_type": "code",
   "execution_count": 15,
   "metadata": {
    "ExecuteTime": {
     "end_time": "2021-06-27T21:14:19.938881Z",
     "start_time": "2021-06-27T21:14:19.610161Z"
    },
    "hidden": true,
    "run_control": {
     "marked": false
    }
   },
   "outputs": [
    {
     "data": {
      "text/plain": [
       "torch.Size([400000, 100])"
      ]
     },
     "execution_count": 15,
     "metadata": {},
     "output_type": "execute_result"
    }
   ],
   "source": [
    "# Pretrained word vectors/embeddings\n",
    "glove = torchtext.vocab.GloVe(name = '6B', dim = 100)\n",
    "glove.vectors.shape"
   ]
  },
  {
   "cell_type": "markdown",
   "metadata": {
    "hidden": true
   },
   "source": [
    "Since we're using GloVe vectors for *transfer learning* (by preloading our embedding), let's take a look at how many tokens can be successfully transferred from GloVe into our own vocab. Each token will have an embedding (vector) of size 100. This results in an embedding of size **7591x100**"
   ]
  },
  {
   "cell_type": "code",
   "execution_count": 16,
   "metadata": {
    "ExecuteTime": {
     "end_time": "2021-06-27T21:14:19.982338Z",
     "start_time": "2021-06-27T21:14:19.940174Z"
    },
    "hidden": true
   },
   "outputs": [
    {
     "data": {
      "text/plain": [
       "torch.Size([7591, 100])"
      ]
     },
     "execution_count": 16,
     "metadata": {},
     "output_type": "execute_result"
    }
   ],
   "source": [
    "# Preloading our vocab with embeddings if our vocab shares similar tokens to GloVe\n",
    "my_vocab.vectors = glove.get_vecs_by_tokens(my_vocab.get_itos())\n",
    "my_vocab.vectors.shape"
   ]
  },
  {
   "cell_type": "markdown",
   "metadata": {
    "hidden": true
   },
   "source": [
    "By default, tokens that aren't able to transfer from GloVe into our own dataset get initialized with a vector of 0's. We can use this to count how many tokens were successfully preloaded!"
   ]
  },
  {
   "cell_type": "code",
   "execution_count": 17,
   "metadata": {
    "ExecuteTime": {
     "end_time": "2021-06-27T21:14:20.012667Z",
     "start_time": "2021-06-27T21:14:19.983501Z"
    },
    "hidden": true
   },
   "outputs": [
    {
     "data": {
      "text/plain": [
       "(7517, 7591)"
      ]
     },
     "execution_count": 17,
     "metadata": {},
     "output_type": "execute_result"
    }
   ],
   "source": [
    "tot_transferred = 0\n",
    "for v in my_vocab.vectors:\n",
    "    if not v.equal(torch.zeros(100)):\n",
    "        tot_transferred += 1\n",
    "        \n",
    "tot_transferred, len(my_vocab)"
   ]
  },
  {
   "cell_type": "markdown",
   "metadata": {
    "hidden": true
   },
   "source": [
    "> Important: Not bad, 7517 out of our 7591 tokens were successfully transferred!"
   ]
  },
  {
   "cell_type": "code",
   "execution_count": 18,
   "metadata": {
    "ExecuteTime": {
     "end_time": "2021-06-27T21:14:20.018525Z",
     "start_time": "2021-06-27T21:14:20.013772Z"
    },
    "hidden": true
   },
   "outputs": [
    {
     "data": {
      "text/plain": [
       "('the',\n",
       " tensor([-0.0382, -0.2449,  0.7281, -0.3996,  0.0832,  0.0440, -0.3914,  0.3344,\n",
       "         -0.5755,  0.0875,  0.2879, -0.0673,  0.3091, -0.2638, -0.1323, -0.2076,\n",
       "          0.3340, -0.3385, -0.3174, -0.4834,  0.1464, -0.3730,  0.3458,  0.0520,\n",
       "          0.4495, -0.4697,  0.0263, -0.5415, -0.1552, -0.1411, -0.0397,  0.2828,\n",
       "          0.1439,  0.2346, -0.3102,  0.0862,  0.2040,  0.5262,  0.1716, -0.0824,\n",
       "         -0.7179, -0.4153,  0.2033, -0.1276,  0.4137,  0.5519,  0.5791, -0.3348,\n",
       "         -0.3656, -0.5486, -0.0629,  0.2658,  0.3020,  0.9977, -0.8048, -3.0243,\n",
       "          0.0125, -0.3694,  2.2167,  0.7220, -0.2498,  0.9214,  0.0345,  0.4674,\n",
       "          1.1079, -0.1936, -0.0746,  0.2335, -0.0521, -0.2204,  0.0572, -0.1581,\n",
       "         -0.3080, -0.4162,  0.3797,  0.1501, -0.5321, -0.2055, -1.2526,  0.0716,\n",
       "          0.7056,  0.4974, -0.4206,  0.2615, -1.5380, -0.3022, -0.0734, -0.2831,\n",
       "          0.3710, -0.2522,  0.0162, -0.0171, -0.3898,  0.8742, -0.7257, -0.5106,\n",
       "         -0.5203, -0.1459,  0.8278,  0.2706]))"
      ]
     },
     "execution_count": 18,
     "metadata": {},
     "output_type": "execute_result"
    }
   ],
   "source": [
    "my_vocab.get_itos()[3], my_vocab.vectors[3]"
   ]
  },
  {
   "cell_type": "code",
   "execution_count": 19,
   "metadata": {
    "ExecuteTime": {
     "end_time": "2021-06-27T21:14:20.024403Z",
     "start_time": "2021-06-27T21:14:20.019772Z"
    },
    "hidden": true
   },
   "outputs": [
    {
     "data": {
      "text/plain": [
       "('eargels',\n",
       " tensor([0., 0., 0., 0., 0., 0., 0., 0., 0., 0., 0., 0., 0., 0., 0., 0., 0., 0., 0., 0., 0., 0., 0., 0.,\n",
       "         0., 0., 0., 0., 0., 0., 0., 0., 0., 0., 0., 0., 0., 0., 0., 0., 0., 0., 0., 0., 0., 0., 0., 0.,\n",
       "         0., 0., 0., 0., 0., 0., 0., 0., 0., 0., 0., 0., 0., 0., 0., 0., 0., 0., 0., 0., 0., 0., 0., 0.,\n",
       "         0., 0., 0., 0., 0., 0., 0., 0., 0., 0., 0., 0., 0., 0., 0., 0., 0., 0., 0., 0., 0., 0., 0., 0.,\n",
       "         0., 0., 0., 0.]))"
      ]
     },
     "execution_count": 19,
     "metadata": {},
     "output_type": "execute_result"
    }
   ],
   "source": [
    "my_vocab.get_itos()[6555], my_vocab.vectors[6555]"
   ]
  },
  {
   "cell_type": "markdown",
   "metadata": {
    "hidden": true
   },
   "source": [
    "> Note: Note that the vector for index 3 corresponds to the word/token `the` and it has non-zero values in the vector since we were able to preload it from GloVe! Index 6559 corresponds to the word `eargels` and it's all zeros, which means that it wasn't part of Glove's vocab and therefore couldn't transfer it's embedding to our vocab!"
   ]
  },
  {
   "cell_type": "markdown",
   "metadata": {
    "hidden": true
   },
   "source": [
    "> Note: There were 400k tokens/words in GloVe, and `stardust` wasn't one of them :O"
   ]
  },
  {
   "cell_type": "markdown",
   "metadata": {
    "hidden": true
   },
   "source": [
    "> Warning: Initializing the embeddings to 0 isn't the best idea. If we use these embeddings for transfer learning to our embedding layer, then **all** new tokens not found in GloVe will have an indentical vector representation of all 0s. I found the model to be harder to train because of this, and I concluded that it's due to these 0s being multiplied in our model's forward pass which creates more 0s, and possibly cause some gradients to be 0, making it much more difficult to learn these new embeddings."
   ]
  },
  {
   "cell_type": "markdown",
   "metadata": {
    "hidden": true
   },
   "source": [
    "> Tip: Rather than initializing new token embeddings to 0's, let's use `torch.randn` to create some diversity between the different token embeddings that weren't preloaded with GloVe!"
   ]
  },
  {
   "cell_type": "code",
   "execution_count": 20,
   "metadata": {
    "ExecuteTime": {
     "end_time": "2021-06-27T21:14:20.063904Z",
     "start_time": "2021-06-27T21:14:20.025471Z"
    },
    "hidden": true
   },
   "outputs": [],
   "source": [
    "for i in range(my_vocab.vectors.shape[0]):\n",
    "    if my_vocab.vectors[i].equal(torch.zeros(100)):\n",
    "        my_vocab.vectors[i] = torch.randn(100)"
   ]
  },
  {
   "cell_type": "markdown",
   "metadata": {
    "hidden": true
   },
   "source": [
    "Now let's use our vocab to *numericalize* our tokens!"
   ]
  },
  {
   "cell_type": "code",
   "execution_count": 21,
   "metadata": {
    "ExecuteTime": {
     "end_time": "2021-06-27T21:14:20.067576Z",
     "start_time": "2021-06-27T21:14:20.065122Z"
    },
    "hidden": true
   },
   "outputs": [
    {
     "data": {
      "text/plain": [
       "'This sound track was beautiful! It paints the senery in your mind so well I would recomend it even to people who hate vid. game music! I have played the game Chrono Cross but out of all of the games I have ever played it has the best music! It backs away from crude keyboarding and takes a fresher step with grate guitars and soulful orchestras. It would impress anyone who cares to listen! ^_^'"
      ]
     },
     "execution_count": 21,
     "metadata": {},
     "output_type": "execute_result"
    }
   ],
   "source": [
    "sample_text = train_df['text'][0]\n",
    "sample_text"
   ]
  },
  {
   "cell_type": "code",
   "execution_count": 22,
   "metadata": {
    "ExecuteTime": {
     "end_time": "2021-06-27T21:14:20.074384Z",
     "start_time": "2021-06-27T21:14:20.068683Z"
    },
    "hidden": true,
    "scrolled": true
   },
   "outputs": [
    {
     "data": {
      "text/plain": [
       "(#81) ['this','sound','track','was','beautiful','!','it','paints','the','senery'...]"
      ]
     },
     "execution_count": 22,
     "metadata": {},
     "output_type": "execute_result"
    }
   ],
   "source": [
    "tokens = L(tokenizer(sample_text))\n",
    "tokens"
   ]
  },
  {
   "cell_type": "markdown",
   "metadata": {
    "hidden": true
   },
   "source": [
    "We can use our vocab to convert each token to it's numeric representation one-by-one using a list comprehension!"
   ]
  },
  {
   "cell_type": "code",
   "execution_count": 23,
   "metadata": {
    "ExecuteTime": {
     "end_time": "2021-06-27T21:14:20.082709Z",
     "start_time": "2021-06-27T21:14:20.075443Z"
    },
    "hidden": true
   },
   "outputs": [
    {
     "data": {
      "text/plain": [
       "tensor([  12,  222,  505,   17,  405,   19,    9, 5931,    3,    0,   14,   74,\n",
       "         424,   34,   85,    5,   49, 1490,    9,   78,    8,  120,   70,  704,\n",
       "           0,    2,  255,  133,   19,    5,   27,  545,    3,  255,    0, 2380,\n",
       "          22,   55,   10,   33,   10,    3,  801,    5,   27,  136,  545,    9,\n",
       "          53,    3,  107,  133,   19,    9,    0,  274,   45, 3843,    0,    6,\n",
       "         433,    7,    0, 1368,   23,    0, 3306,    6, 3844,    0,    2,    9,\n",
       "          49, 4234,  183,   70, 2260,    8,  344,   19,    0])"
      ]
     },
     "execution_count": 23,
     "metadata": {},
     "output_type": "execute_result"
    }
   ],
   "source": [
    "numericalized_tokens = [my_vocab[token] for token in tokens]\n",
    "numericalized_tokens = torch.tensor(numericalized_tokens)\n",
    "numericalized_tokens"
   ]
  },
  {
   "cell_type": "code",
   "execution_count": 24,
   "metadata": {
    "ExecuteTime": {
     "end_time": "2021-06-27T21:14:20.117111Z",
     "start_time": "2021-06-27T21:14:20.083837Z"
    },
    "hidden": true
   },
   "outputs": [
    {
     "data": {
      "text/plain": [
       "'this sound track was beautiful ! it paints the <unk> in your mind so well i would recomend it even to people who hate <unk> . game music ! i have played the game <unk> cross but out of all of the games i have ever played it has the best music ! it <unk> away from crude <unk> and takes a <unk> step with <unk> guitars and soulful <unk> . it would impress anyone who cares to listen ! <unk>'"
      ]
     },
     "execution_count": 24,
     "metadata": {},
     "output_type": "execute_result"
    }
   ],
   "source": [
    "' '.join([my_vocab.get_itos()[num] for num in numericalized_tokens])"
   ]
  },
  {
   "cell_type": "code",
   "execution_count": 25,
   "metadata": {
    "ExecuteTime": {
     "end_time": "2021-06-27T21:14:20.121423Z",
     "start_time": "2021-06-27T21:14:20.118138Z"
    },
    "hidden": true
   },
   "outputs": [
    {
     "data": {
      "text/plain": [
       "torch.Size([81])"
      ]
     },
     "execution_count": 25,
     "metadata": {},
     "output_type": "execute_result"
    }
   ],
   "source": [
    "numericalized_tokens.shape"
   ]
  },
  {
   "cell_type": "markdown",
   "metadata": {
    "hidden": true
   },
   "source": [
    "> Note: Notice how uncommon words have value `0` in their numericalized form! This corresponds to the `<unk>` token."
   ]
  },
  {
   "cell_type": "markdown",
   "metadata": {
    "hidden": true
   },
   "source": [
    "This example has 81 tokens, but other examples may have more or less. It'll be a good idea to cap the number of tokens + pad the amount of tokens to a desired number of tokens. This will be needed in order to batch our samples together, as they can't vary in size!"
   ]
  },
  {
   "cell_type": "code",
   "execution_count": 26,
   "metadata": {
    "ExecuteTime": {
     "end_time": "2021-06-27T21:14:20.127948Z",
     "start_time": "2021-06-27T21:14:20.122450Z"
    },
    "hidden": true
   },
   "outputs": [],
   "source": [
    "max_tokens = 128"
   ]
  },
  {
   "cell_type": "code",
   "execution_count": 27,
   "metadata": {
    "ExecuteTime": {
     "end_time": "2021-06-27T21:14:20.136864Z",
     "start_time": "2021-06-27T21:14:20.129081Z"
    },
    "hidden": true
   },
   "outputs": [
    {
     "data": {
      "text/plain": [
       "tensor([  12,  222,  505,   17,  405,   19,    9, 5931,    3,    0,   14,   74,\n",
       "         424,   34,   85,    5,   49, 1490,    9,   78,    8,  120,   70,  704,\n",
       "           0,    2,  255,  133,   19,    5,   27,  545,    3,  255,    0, 2380,\n",
       "          22,   55,   10,   33,   10,    3,  801,    5,   27,  136,  545,    9,\n",
       "          53,    3,  107,  133,   19,    9,    0,  274,   45, 3843,    0,    6,\n",
       "         433,    7,    0, 1368,   23,    0, 3306,    6, 3844,    0,    2,    9,\n",
       "          49, 4234,  183,   70, 2260,    8,  344,   19,    0,    1,    1,    1,\n",
       "           1,    1,    1,    1,    1,    1,    1,    1,    1,    1,    1,    1,\n",
       "           1,    1,    1,    1,    1,    1,    1,    1,    1,    1,    1,    1,\n",
       "           1,    1,    1,    1,    1,    1,    1,    1,    1,    1,    1,    1,\n",
       "           1,    1,    1,    1,    1,    1,    1,    1])"
      ]
     },
     "execution_count": 27,
     "metadata": {},
     "output_type": "execute_result"
    }
   ],
   "source": [
    "numericalized_tokens = [my_vocab[token] for token in tokens]\n",
    "\n",
    "if len(numericalized_tokens) < max_tokens:\n",
    "    numericalized_tokens += [1] * (max_tokens-len(numericalized_tokens))\n",
    "else:\n",
    "    numericalized_tokens = numericalized_tokens[:max_tokens]\n",
    "\n",
    "numericalized_tokens = torch.tensor(numericalized_tokens)\n",
    "numericalized_tokens"
   ]
  },
  {
   "cell_type": "markdown",
   "metadata": {
    "hidden": true
   },
   "source": [
    "> Important: Remember that the pad token is represented by a 1 in it's numericalized form!"
   ]
  },
  {
   "cell_type": "markdown",
   "metadata": {
    "heading_collapsed": true
   },
   "source": [
    "# 3. Dataset & DataLoaders [PyTorch & fastai]"
   ]
  },
  {
   "cell_type": "markdown",
   "metadata": {
    "ExecuteTime": {
     "end_time": "2021-06-27T03:47:37.857591Z",
     "start_time": "2021-06-27T03:47:37.853561Z"
    },
    "hidden": true
   },
   "source": [
    "Now that we have everything we need to tokenize and numericalize our input, let's go ahead and make a simple Dataset class"
   ]
  },
  {
   "cell_type": "code",
   "execution_count": 28,
   "metadata": {
    "ExecuteTime": {
     "end_time": "2021-06-27T21:14:20.144231Z",
     "start_time": "2021-06-27T21:14:20.139525Z"
    },
    "hidden": true
   },
   "outputs": [],
   "source": [
    "#collapse\n",
    "from torch import nn\n",
    "\n",
    "class Simple_Dataset(torch.utils.data.Dataset):\n",
    "    def __init__(self, df, vocab, max_tokens):\n",
    "        self.df = df\n",
    "        self.vocab = vocab\n",
    "        self.max_length = max_tokens\n",
    "        self.tokenizer = get_tokenizer(\"basic_english\")\n",
    "        \n",
    "        # label 1 is negative sentiment and label 2 is positive sentiment\n",
    "        self.label_map = {1:0, 2:1}\n",
    "        \n",
    "    def __len__(self):\n",
    "        return len(self.df)\n",
    "\n",
    "    def decode(self, numericalized_tokens):\n",
    "        return ' '.join([self.vocab.get_itos()[num] for num in numericalized_tokens])\n",
    "\n",
    "    def __getitem__(self, index):\n",
    "        label, title, text = self.df.iloc[index]\n",
    "        label = self.label_map[label]\n",
    "        label = torch.tensor(label)\n",
    "\n",
    "        tokens = tokenizer(text)\n",
    "        numericalized_tokens = [my_vocab[token] for token in tokens]\n",
    "\n",
    "        if len(numericalized_tokens) < max_tokens:\n",
    "            numericalized_tokens += [1] * (max_tokens-len(numericalized_tokens))\n",
    "        else:\n",
    "            numericalized_tokens = numericalized_tokens[:max_tokens]\n",
    "\n",
    "        numericalized_tokens = torch.tensor(numericalized_tokens)\n",
    "        \n",
    "        return numericalized_tokens, label"
   ]
  },
  {
   "cell_type": "code",
   "execution_count": 29,
   "metadata": {
    "ExecuteTime": {
     "end_time": "2021-06-27T21:14:20.154101Z",
     "start_time": "2021-06-27T21:14:20.145776Z"
    },
    "hidden": true
   },
   "outputs": [
    {
     "data": {
      "text/plain": [
       "(40000, 2000)"
      ]
     },
     "execution_count": 29,
     "metadata": {},
     "output_type": "execute_result"
    }
   ],
   "source": [
    "train_dataset = Simple_Dataset(train_df, vocab=my_vocab, max_tokens=128)\n",
    "valid_dataset = Simple_Dataset(valid_df, vocab=my_vocab, max_tokens=128)\n",
    "len(train_dataset), len(valid_dataset)"
   ]
  },
  {
   "cell_type": "markdown",
   "metadata": {
    "hidden": true
   },
   "source": [
    "> Note: 40k training samples and 2k validation samples. Feel free to try this on a larger dataset!"
   ]
  },
  {
   "cell_type": "code",
   "execution_count": 30,
   "metadata": {
    "ExecuteTime": {
     "end_time": "2021-06-27T21:14:20.162773Z",
     "start_time": "2021-06-27T21:14:20.155125Z"
    },
    "hidden": true
   },
   "outputs": [
    {
     "data": {
      "text/plain": [
       "(tensor([  12,  222,  505,   17,  405,   19,    9, 5931,    3,    0,   14,   74,\n",
       "          424,   34,   85,    5,   49, 1490,    9,   78,    8,  120,   70,  704,\n",
       "            0,    2,  255,  133,   19,    5,   27,  545,    3,  255,    0, 2380,\n",
       "           22,   55,   10,   33,   10,    3,  801,    5,   27,  136,  545,    9,\n",
       "           53,    3,  107,  133,   19,    9,    0,  274,   45, 3843,    0,    6,\n",
       "          433,    7,    0, 1368,   23,    0, 3306,    6, 3844,    0,    2,    9,\n",
       "           49, 4234,  183,   70, 2260,    8,  344,   19,    0,    1,    1,    1,\n",
       "            1,    1,    1,    1,    1,    1,    1,    1,    1,    1,    1,    1,\n",
       "            1,    1,    1,    1,    1,    1,    1,    1,    1,    1,    1,    1,\n",
       "            1,    1,    1,    1,    1,    1,    1,    1,    1,    1,    1,    1,\n",
       "            1,    1,    1,    1,    1,    1,    1,    1]),\n",
       " tensor(1))"
      ]
     },
     "execution_count": 30,
     "metadata": {},
     "output_type": "execute_result"
    }
   ],
   "source": [
    "tokens, label = train_dataset[0]\n",
    "tokens, label"
   ]
  },
  {
   "cell_type": "code",
   "execution_count": 31,
   "metadata": {
    "ExecuteTime": {
     "end_time": "2021-06-27T21:14:20.213900Z",
     "start_time": "2021-06-27T21:14:20.163850Z"
    },
    "hidden": true
   },
   "outputs": [
    {
     "data": {
      "text/plain": [
       "'this sound track was beautiful ! it paints the <unk> in your mind so well i would recomend it even to people who hate <unk> . game music ! i have played the game <unk> cross but out of all of the games i have ever played it has the best music ! it <unk> away from crude <unk> and takes a <unk> step with <unk> guitars and soulful <unk> . it would impress anyone who cares to listen ! <unk> <pad> <pad> <pad> <pad> <pad> <pad> <pad> <pad> <pad> <pad> <pad> <pad> <pad> <pad> <pad> <pad> <pad> <pad> <pad> <pad> <pad> <pad> <pad> <pad> <pad> <pad> <pad> <pad> <pad> <pad> <pad> <pad> <pad> <pad> <pad> <pad> <pad> <pad> <pad> <pad> <pad> <pad> <pad> <pad> <pad> <pad> <pad>'"
      ]
     },
     "execution_count": 31,
     "metadata": {},
     "output_type": "execute_result"
    }
   ],
   "source": [
    "train_dataset.decode(tokens)"
   ]
  },
  {
   "cell_type": "markdown",
   "metadata": {
    "hidden": true
   },
   "source": [
    "We can now create our fastai DataLoaders `dls` to use for later!"
   ]
  },
  {
   "cell_type": "code",
   "execution_count": 32,
   "metadata": {
    "ExecuteTime": {
     "end_time": "2021-06-27T21:14:20.219087Z",
     "start_time": "2021-06-27T21:14:20.214950Z"
    },
    "hidden": true
   },
   "outputs": [
    {
     "data": {
      "text/plain": [
       "<fastai.data.core.DataLoaders at 0x7f19b2962130>"
      ]
     },
     "execution_count": 32,
     "metadata": {},
     "output_type": "execute_result"
    }
   ],
   "source": [
    "train_dl = DataLoader(train_dataset, bs=32, shuffle=True)\n",
    "valid_dl = DataLoader(valid_dataset, bs=32)\n",
    "\n",
    "dls = DataLoaders(train_dl, valid_dl)\n",
    "dls"
   ]
  },
  {
   "cell_type": "markdown",
   "metadata": {
    "heading_collapsed": true,
    "tags": []
   },
   "source": [
    "# 4. Model [PyTorch]"
   ]
  },
  {
   "cell_type": "markdown",
   "metadata": {
    "hidden": true
   },
   "source": [
    "Now to the model creation section! Our PyTorch model will contain the following layers/components:\n",
    "- **Embedding Layer**: converts numericalized tokens into their embedding representation\n",
    "- **LSTM**: processes the sequence of embeddings\n",
    "- **Head**: Takes final feature vector of LSTM for classification prediction"
   ]
  },
  {
   "cell_type": "code",
   "execution_count": 32,
   "metadata": {
    "ExecuteTime": {
     "end_time": "2021-06-27T20:20:43.858261Z",
     "start_time": "2021-06-27T20:20:43.850220Z"
    },
    "hidden": true
   },
   "outputs": [],
   "source": [
    "#collapse\n",
    "class Model(nn.Module):\n",
    "  \n",
    "    def __init__(self, vocab, num_classes):\n",
    "        super().__init__()\n",
    "        \n",
    "        vocab_size, emb_size = vocab.vectors.shape\n",
    "        self.emb = nn.Embedding(vocab_size, emb_size, _weight=vocab.vectors)\n",
    "        \n",
    "        self.lstm = nn.LSTM(input_size = emb_size, hidden_size = 64, batch_first = True, num_layers = 2)\n",
    "        \n",
    "        self.head = nn.Sequential(nn.Linear(128, 64), nn.ReLU(), nn.Linear(64, num_classes))\n",
    "        \n",
    "    def forward(self, batch_data):\n",
    "\n",
    "        token_embs = self.emb(batch_data)\n",
    "        \n",
    "        outputs, (h_n, c_n) = self.lstm(token_embs)\n",
    "        \n",
    "        # Assuming a batch size of 32, h_n will have a shape of:\n",
    "        \n",
    "        # shape = 2, 32, 64\n",
    "        last_hidden_state = h_n\n",
    "        # shape = 32, 2, 64\n",
    "        last_hidden_state = last_hidden_state.permute(1,0,2)\n",
    "        # shape = 32, 128\n",
    "        last_hidden_state = last_hidden_state.flatten(start_dim=1)\n",
    "\n",
    "        logits = self.head(last_hidden_state)\n",
    "        \n",
    "        return logits"
   ]
  },
  {
   "cell_type": "markdown",
   "metadata": {
    "hidden": true
   },
   "source": [
    "> Warning: If you forget the `_weight=vocab.vectors` in the PyTorch `nn.Embedding()` layer creation function, you'll simply initialize your embedding with all random numbers & nothing will transfer from GloVe! Feel free to comment out that bit and see how the performance drops due to the lack of transfer learning!"
   ]
  },
  {
   "cell_type": "code",
   "execution_count": 33,
   "metadata": {
    "ExecuteTime": {
     "end_time": "2021-06-27T20:20:43.867411Z",
     "start_time": "2021-06-27T20:20:43.859301Z"
    },
    "hidden": true,
    "scrolled": true
   },
   "outputs": [
    {
     "data": {
      "text/plain": [
       "Model(\n",
       "  (emb): Embedding(7591, 100)\n",
       "  (lstm): LSTM(100, 64, num_layers=2, batch_first=True)\n",
       "  (head): Sequential(\n",
       "    (0): Linear(in_features=128, out_features=64, bias=True)\n",
       "    (1): ReLU()\n",
       "    (2): Linear(in_features=64, out_features=2, bias=True)\n",
       "  )\n",
       ")"
      ]
     },
     "execution_count": 33,
     "metadata": {},
     "output_type": "execute_result"
    }
   ],
   "source": [
    "model = Model(my_vocab, num_classes=2)\n",
    "model"
   ]
  },
  {
   "cell_type": "markdown",
   "metadata": {
    "hidden": true
   },
   "source": [
    "Let's double check that some of our embeddings were successfully loaded from the domain-overlapping tokens from GloVe. Below is our preloaded embedding matrix!"
   ]
  },
  {
   "cell_type": "code",
   "execution_count": 34,
   "metadata": {
    "ExecuteTime": {
     "end_time": "2021-06-27T20:20:43.873403Z",
     "start_time": "2021-06-27T20:20:43.868393Z"
    },
    "hidden": true
   },
   "outputs": [
    {
     "data": {
      "text/plain": [
       "Parameter containing:\n",
       "tensor([[-0.4916,  1.7088,  0.7117,  ...,  0.1416,  0.9630,  0.4806],\n",
       "        [ 0.4609, -0.7693,  0.0846,  ..., -0.5245,  0.7817, -0.2093],\n",
       "        [-0.3398,  0.2094,  0.4635,  ..., -0.2339,  0.4730, -0.0288],\n",
       "        ...,\n",
       "        [ 0.2659,  0.1006, -0.1915,  ...,  0.4461,  0.2491,  0.0310],\n",
       "        [ 0.2600,  0.0077,  0.6122,  ...,  0.1818, -0.2181,  0.0772],\n",
       "        [-0.2763, -0.2575, -0.1396,  ...,  0.1692, -0.1993,  0.4247]],\n",
       "       requires_grad=True)"
      ]
     },
     "execution_count": 34,
     "metadata": {},
     "output_type": "execute_result"
    }
   ],
   "source": [
    "embedding_matrix = list(model.emb.parameters())[0]\n",
    "embedding_matrix"
   ]
  },
  {
   "cell_type": "markdown",
   "metadata": {
    "ExecuteTime": {
     "end_time": "2021-06-27T08:47:45.963686Z",
     "start_time": "2021-06-27T08:47:45.959670Z"
    },
    "hidden": true
   },
   "source": [
    "Index `3` corresponds to `'the'`:"
   ]
  },
  {
   "cell_type": "code",
   "execution_count": 35,
   "metadata": {
    "ExecuteTime": {
     "end_time": "2021-06-27T20:20:43.879762Z",
     "start_time": "2021-06-27T20:20:43.874459Z"
    },
    "hidden": true
   },
   "outputs": [
    {
     "data": {
      "text/plain": [
       "True"
      ]
     },
     "execution_count": 35,
     "metadata": {},
     "output_type": "execute_result"
    }
   ],
   "source": [
    "my_vocab.vectors[3].equal(embedding_matrix[3])"
   ]
  },
  {
   "cell_type": "markdown",
   "metadata": {
    "hidden": true
   },
   "source": [
    "> Important: Our pre-loaded embedding parameters for index 3 matches up with our vocab vectors, nice!"
   ]
  },
  {
   "cell_type": "code",
   "execution_count": 36,
   "metadata": {
    "ExecuteTime": {
     "end_time": "2021-06-27T20:20:43.887133Z",
     "start_time": "2021-06-27T20:20:43.880740Z"
    },
    "hidden": true
   },
   "outputs": [
    {
     "data": {
      "text/plain": [
       "843262"
      ]
     },
     "execution_count": 36,
     "metadata": {},
     "output_type": "execute_result"
    }
   ],
   "source": [
    "total_params = 0\n",
    "for p in model.parameters():\n",
    "    total_params += p.numel()\n",
    "total_params"
   ]
  },
  {
   "cell_type": "markdown",
   "metadata": {
    "hidden": true
   },
   "source": [
    "> Important: ~865k parameters!"
   ]
  },
  {
   "cell_type": "markdown",
   "metadata": {
    "hidden": true
   },
   "source": [
    "Now let's go ahead and make sure we can do a forward pass through our model, our loss function will be `CrossEntropyLoss` as it's a classification task."
   ]
  },
  {
   "cell_type": "code",
   "execution_count": 37,
   "metadata": {
    "ExecuteTime": {
     "end_time": "2021-06-27T20:20:43.924025Z",
     "start_time": "2021-06-27T20:20:43.888144Z"
    },
    "hidden": true,
    "run_control": {
     "marked": false
    },
    "scrolled": true
   },
   "outputs": [
    {
     "name": "stdout",
     "output_type": "stream",
     "text": [
      "torch.Size([32, 128]) torch.Size([32])\n"
     ]
    }
   ],
   "source": [
    "batched_data, batched_labels = train_dl.one_batch()\n",
    "print(batched_data.shape, batched_labels.shape)"
   ]
  },
  {
   "cell_type": "code",
   "execution_count": 38,
   "metadata": {
    "ExecuteTime": {
     "end_time": "2021-06-27T20:20:43.965408Z",
     "start_time": "2021-06-27T20:20:43.925037Z"
    },
    "hidden": true
   },
   "outputs": [
    {
     "data": {
      "text/plain": [
       "torch.Size([32, 2])"
      ]
     },
     "execution_count": 38,
     "metadata": {},
     "output_type": "execute_result"
    }
   ],
   "source": [
    "with torch.no_grad():\n",
    "    logits = model(batched_data)\n",
    "logits.shape"
   ]
  },
  {
   "cell_type": "code",
   "execution_count": 39,
   "metadata": {
    "ExecuteTime": {
     "end_time": "2021-06-27T20:20:43.969889Z",
     "start_time": "2021-06-27T20:20:43.966575Z"
    },
    "hidden": true
   },
   "outputs": [
    {
     "data": {
      "text/plain": [
       "tensor(0.7026)"
      ]
     },
     "execution_count": 39,
     "metadata": {},
     "output_type": "execute_result"
    }
   ],
   "source": [
    "loss_func = nn.CrossEntropyLoss()\n",
    "\n",
    "loss = loss_func(logits, batched_labels)\n",
    "loss"
   ]
  },
  {
   "cell_type": "markdown",
   "metadata": {
    "hidden": true
   },
   "source": [
    "Sweet!"
   ]
  },
  {
   "cell_type": "markdown",
   "metadata": {
    "heading_collapsed": true,
    "tags": []
   },
   "source": [
    "# 5. Training/Fitting [fastai]"
   ]
  },
  {
   "cell_type": "markdown",
   "metadata": {
    "hidden": true
   },
   "source": [
    "Time to use fastai to contain our `dls`, `model`, and `metrics` & assist with training using certain best practices!"
   ]
  },
  {
   "cell_type": "code",
   "execution_count": 40,
   "metadata": {
    "ExecuteTime": {
     "end_time": "2021-06-27T20:20:43.978305Z",
     "start_time": "2021-06-27T20:20:43.970946Z"
    },
    "hidden": true,
    "scrolled": true
   },
   "outputs": [
    {
     "data": {
      "text/plain": [
       "<fastai.learner.Learner at 0x7f5c4113b3d0>"
      ]
     },
     "execution_count": 40,
     "metadata": {},
     "output_type": "execute_result"
    }
   ],
   "source": [
    "learn = Learner(dls, model, loss_func=nn.CrossEntropyLoss(), metrics=[accuracy])\n",
    "learn"
   ]
  },
  {
   "cell_type": "code",
   "execution_count": 41,
   "metadata": {
    "ExecuteTime": {
     "end_time": "2021-06-27T20:20:54.099446Z",
     "start_time": "2021-06-27T20:20:43.979343Z"
    },
    "hidden": true,
    "scrolled": false
   },
   "outputs": [
    {
     "data": {
      "text/html": [],
      "text/plain": [
       "<IPython.core.display.HTML object>"
      ]
     },
     "metadata": {},
     "output_type": "display_data"
    },
    {
     "data": {
      "text/plain": [
       "SuggestedLRs(valley=tensor(0.0052))"
      ]
     },
     "execution_count": 41,
     "metadata": {},
     "output_type": "execute_result"
    },
    {
     "data": {
      "image/png": "[encoded data removed]",
      "text/plain": [
       "<Figure size 432x288 with 1 Axes>"
      ]
     },
     "metadata": {
      "needs_background": "light"
     },
     "output_type": "display_data"
    }
   ],
   "source": [
    "learn.lr_find()"
   ]
  },
  {
   "cell_type": "code",
   "execution_count": 42,
   "metadata": {
    "ExecuteTime": {
     "end_time": "2021-06-27T20:33:10.693678Z",
     "start_time": "2021-06-27T20:20:54.100573Z"
    },
    "hidden": true
   },
   "outputs": [
    {
     "data": {
      "text/html": [
       "<table border=\"1\" class=\"dataframe\">\n",
       "  <thead>\n",
       "    <tr style=\"text-align: left;\">\n",
       "      <th>epoch</th>\n",
       "      <th>train_loss</th>\n",
       "      <th>valid_loss</th>\n",
       "      <th>accuracy</th>\n",
       "      <th>time</th>\n",
       "    </tr>\n",
       "  </thead>\n",
       "  <tbody>\n",
       "    <tr>\n",
       "      <td>0</td>\n",
       "      <td>0.426767</td>\n",
       "      <td>0.401867</td>\n",
       "      <td>0.826000</td>\n",
       "      <td>01:52</td>\n",
       "    </tr>\n",
       "    <tr>\n",
       "      <td>1</td>\n",
       "      <td>0.282645</td>\n",
       "      <td>0.295986</td>\n",
       "      <td>0.874500</td>\n",
       "      <td>02:15</td>\n",
       "    </tr>\n",
       "    <tr>\n",
       "      <td>2</td>\n",
       "      <td>0.226144</td>\n",
       "      <td>0.283338</td>\n",
       "      <td>0.878000</td>\n",
       "      <td>02:46</td>\n",
       "    </tr>\n",
       "    <tr>\n",
       "      <td>3</td>\n",
       "      <td>0.145605</td>\n",
       "      <td>0.325866</td>\n",
       "      <td>0.875500</td>\n",
       "      <td>02:43</td>\n",
       "    </tr>\n",
       "    <tr>\n",
       "      <td>4</td>\n",
       "      <td>0.125661</td>\n",
       "      <td>0.348530</td>\n",
       "      <td>0.875500</td>\n",
       "      <td>02:38</td>\n",
       "    </tr>\n",
       "  </tbody>\n",
       "</table>"
      ],
      "text/plain": [
       "<IPython.core.display.HTML object>"
      ]
     },
     "metadata": {},
     "output_type": "display_data"
    }
   ],
   "source": [
    "learn.fit_one_cycle(5, lr_max=3e-3)"
   ]
  },
  {
   "cell_type": "markdown",
   "metadata": {
    "hidden": true
   },
   "source": [
    "Nice, but this model may have started overfitting near the end of training as it doesn't have any dropout, weight-decay, or other forms of regularization!"
   ]
  },
  {
   "cell_type": "markdown",
   "metadata": {
    "heading_collapsed": true
   },
   "source": [
    "# 6. Using a Language Model via AWD-LSTM [fastai]"
   ]
  },
  {
   "cell_type": "markdown",
   "metadata": {
    "hidden": true
   },
   "source": [
    "Using a pretrained language model for downstream tasks is a popular and efficient technique also! Fine-tuning the language model first is even better, as shown in [chapter 10 from fastbook](https://github.com/fastai/fastbook/blob/master/10_nlp.ipynb)"
   ]
  },
  {
   "cell_type": "markdown",
   "metadata": {
    "hidden": true
   },
   "source": [
    "Here's a quick example of training a model with this dataset using fastai!"
   ]
  },
  {
   "cell_type": "markdown",
   "metadata": {
    "hidden": true
   },
   "source": [
    "First we'll need to create our vocab as we did before!"
   ]
  },
  {
   "cell_type": "code",
   "execution_count": 43,
   "metadata": {
    "ExecuteTime": {
     "end_time": "2021-06-27T20:33:10.764237Z",
     "start_time": "2021-06-27T20:33:10.694941Z"
    },
    "hidden": true
   },
   "outputs": [],
   "source": [
    "fastai_vocab = make_vocab(token_counter)"
   ]
  },
  {
   "cell_type": "markdown",
   "metadata": {
    "ExecuteTime": {
     "end_time": "2021-06-27T14:59:28.038489Z",
     "start_time": "2021-06-27T14:59:28.034137Z"
    },
    "hidden": true
   },
   "source": [
    "To continue using the same subset dataframes, we'll combine both the `train_df` and `valid_df` into `combined_df`, then let fastai split at index 40k by using the `splitter` argument in the [DataBlocks API](https://docs.fast.ai/tutorial.datablock.html)!"
   ]
  },
  {
   "cell_type": "code",
   "execution_count": 44,
   "metadata": {
    "ExecuteTime": {
     "end_time": "2021-06-27T20:33:10.775951Z",
     "start_time": "2021-06-27T20:33:10.765391Z"
    },
    "hidden": true,
    "scrolled": false
   },
   "outputs": [
    {
     "data": {
      "text/html": [
       "<div>\n",
       "<style scoped>\n",
       "    .dataframe tbody tr th:only-of-type {\n",
       "        vertical-align: middle;\n",
       "    }\n",
       "\n",
       "    .dataframe tbody tr th {\n",
       "        vertical-align: top;\n",
       "    }\n",
       "\n",
       "    .dataframe thead th {\n",
       "        text-align: right;\n",
       "    }\n",
       "</style>\n",
       "<table border=\"1\" class=\"dataframe\">\n",
       "  <thead>\n",
       "    <tr style=\"text-align: right;\">\n",
       "      <th></th>\n",
       "      <th>label</th>\n",
       "      <th>title</th>\n",
       "      <th>text</th>\n",
       "    </tr>\n",
       "  </thead>\n",
       "  <tbody>\n",
       "    <tr>\n",
       "      <th>0</th>\n",
       "      <td>2</td>\n",
       "      <td>Stuning even for the non-gamer</td>\n",
       "      <td>This sound track was beautiful! It paints the senery in your mind so well I would recomend it even to people who hate vid. game music! I have played the game Chrono Cross but out of all of the games I have ever played it has the best music! It backs away from crude keyboarding and takes a fresher step with grate guitars and soulful orchestras. It would impress anyone who cares to listen! ^_^</td>\n",
       "    </tr>\n",
       "    <tr>\n",
       "      <th>1</th>\n",
       "      <td>2</td>\n",
       "      <td>The best soundtrack ever to anything.</td>\n",
       "      <td>I'm reading a lot of reviews saying that this is the best 'game soundtrack' and I figured that I'd write a review to disagree a bit. This in my opinino is Yasunori Mitsuda's ultimate masterpiece. The music is timeless and I'm been listening to it for years now and its beauty simply refuses to fade.The price tag on this is pretty staggering I must say, but if you are going to buy any cd for this much money, this is the only one that I feel would be worth every penny.</td>\n",
       "    </tr>\n",
       "    <tr>\n",
       "      <th>2</th>\n",
       "      <td>2</td>\n",
       "      <td>Amazing!</td>\n",
       "      <td>This soundtrack is my favorite music of all time, hands down. The intense sadness of \"Prisoners of Fate\" (which means all the more if you've played the game) and the hope in \"A Distant Promise\" and \"Girl who Stole the Star\" have been an important inspiration to me personally throughout my teen years. The higher energy tracks like \"Chrono Cross ~ Time's Scar~\", \"Time of the Dreamwatch\", and \"Chronomantique\" (indefinably remeniscent of Chrono Trigger) are all absolutely superb as well.This soundtrack is amazing music, probably the best of this composer's work (I haven't heard the Xenogears s...</td>\n",
       "    </tr>\n",
       "    <tr>\n",
       "      <th>3</th>\n",
       "      <td>2</td>\n",
       "      <td>Excellent Soundtrack</td>\n",
       "      <td>I truly like this soundtrack and I enjoy video game music. I have played this game and most of the music on here I enjoy and it's truly relaxing and peaceful.On disk one. my favorites are Scars Of Time, Between Life and Death, Forest Of Illusion, Fortress of Ancient Dragons, Lost Fragment, and Drowned Valley.Disk Two: The Draggons, Galdorb - Home, Chronomantique, Prisoners of Fate, Gale, and my girlfriend likes ZelbessDisk Three: The best of the three. Garden Of God, Chronopolis, Fates, Jellyfish sea, Burning Orphange, Dragon's Prayer, Tower Of Stars, Dragon God, and Radical Dreamers - Uns...</td>\n",
       "    </tr>\n",
       "    <tr>\n",
       "      <th>4</th>\n",
       "      <td>2</td>\n",
       "      <td>Remember, Pull Your Jaw Off The Floor After Hearing it</td>\n",
       "      <td>If you've played the game, you know how divine the music is! Every single song tells a story of the game, it's that good! The greatest songs are without a doubt, Chrono Cross: Time's Scar, Magical Dreamers: The Wind, The Stars, and the Sea and Radical Dreamers: Unstolen Jewel. (Translation varies) This music is perfect if you ask me, the best it can be. Yasunori Mitsuda just poured his heart on and wrote it down on paper.</td>\n",
       "    </tr>\n",
       "  </tbody>\n",
       "</table>\n",
       "</div>"
      ],
      "text/plain": [
       "   label                                                   title  \\\n",
       "0      2                          Stuning even for the non-gamer   \n",
       "1      2                   The best soundtrack ever to anything.   \n",
       "2      2                                                Amazing!   \n",
       "3      2                                    Excellent Soundtrack   \n",
       "4      2  Remember, Pull Your Jaw Off The Floor After Hearing it   \n",
       "\n",
       "                                                                                                                                                                                                                                                                                                                                                                                                                                                                                                                                                                                                                      text  \n",
       "0                                                                                                                                                                                                               This sound track was beautiful! It paints the senery in your mind so well I would recomend it even to people who hate vid. game music! I have played the game Chrono Cross but out of all of the games I have ever played it has the best music! It backs away from crude keyboarding and takes a fresher step with grate guitars and soulful orchestras. It would impress anyone who cares to listen! ^_^  \n",
       "1                                                                                                                                   I'm reading a lot of reviews saying that this is the best 'game soundtrack' and I figured that I'd write a review to disagree a bit. This in my opinino is Yasunori Mitsuda's ultimate masterpiece. The music is timeless and I'm been listening to it for years now and its beauty simply refuses to fade.The price tag on this is pretty staggering I must say, but if you are going to buy any cd for this much money, this is the only one that I feel would be worth every penny.  \n",
       "2  This soundtrack is my favorite music of all time, hands down. The intense sadness of \"Prisoners of Fate\" (which means all the more if you've played the game) and the hope in \"A Distant Promise\" and \"Girl who Stole the Star\" have been an important inspiration to me personally throughout my teen years. The higher energy tracks like \"Chrono Cross ~ Time's Scar~\", \"Time of the Dreamwatch\", and \"Chronomantique\" (indefinably remeniscent of Chrono Trigger) are all absolutely superb as well.This soundtrack is amazing music, probably the best of this composer's work (I haven't heard the Xenogears s...  \n",
       "3  I truly like this soundtrack and I enjoy video game music. I have played this game and most of the music on here I enjoy and it's truly relaxing and peaceful.On disk one. my favorites are Scars Of Time, Between Life and Death, Forest Of Illusion, Fortress of Ancient Dragons, Lost Fragment, and Drowned Valley.Disk Two: The Draggons, Galdorb - Home, Chronomantique, Prisoners of Fate, Gale, and my girlfriend likes ZelbessDisk Three: The best of the three. Garden Of God, Chronopolis, Fates, Jellyfish sea, Burning Orphange, Dragon's Prayer, Tower Of Stars, Dragon God, and Radical Dreamers - Uns...  \n",
       "4                                                                                                                                                                                If you've played the game, you know how divine the music is! Every single song tells a story of the game, it's that good! The greatest songs are without a doubt, Chrono Cross: Time's Scar, Magical Dreamers: The Wind, The Stars, and the Sea and Radical Dreamers: Unstolen Jewel. (Translation varies) This music is perfect if you ask me, the best it can be. Yasunori Mitsuda just poured his heart on and wrote it down on paper.  "
      ]
     },
     "execution_count": 44,
     "metadata": {},
     "output_type": "execute_result"
    }
   ],
   "source": [
    "# Creating a single DataFrame and to split within the DataBlocks API!\n",
    "combined_df = pd.concat([train_df, valid_df])\n",
    "combined_df.head()"
   ]
  },
  {
   "cell_type": "code",
   "execution_count": 45,
   "metadata": {
    "ExecuteTime": {
     "end_time": "2021-06-27T20:33:10.780373Z",
     "start_time": "2021-06-27T20:33:10.777022Z"
    },
    "hidden": true
   },
   "outputs": [
    {
     "data": {
      "text/plain": [
       "42000"
      ]
     },
     "execution_count": 45,
     "metadata": {},
     "output_type": "execute_result"
    }
   ],
   "source": [
    "len(combined_df)"
   ]
  },
  {
   "cell_type": "code",
   "execution_count": null,
   "metadata": {
    "ExecuteTime": {
     "end_time": "2021-06-27T20:33:57.239055Z",
     "start_time": "2021-06-27T20:33:10.788096Z"
    },
    "hidden": true,
    "run_control": {
     "marked": false
    }
   },
   "outputs": [],
   "source": [
    "amazon_polarity = DataBlock(blocks=(TextBlock.from_df('text', seq_len=128, vocab=fastai_vocab),\n",
    "                                    CategoryBlock),\n",
    "                            get_x=ColReader('text'),\n",
    "                            get_y=ColReader('label'),\n",
    "                            splitter=IndexSplitter(range(40000, 42000)))\n",
    "\n",
    "# Passing a custom DataFrame in and splitting by the index!\n",
    "dls = amazon_polarity.dataloaders(combined_df, bs=32)"
   ]
  },
  {
   "cell_type": "code",
   "execution_count": 48,
   "metadata": {
    "ExecuteTime": {
     "end_time": "2021-06-27T20:33:57.244025Z",
     "start_time": "2021-06-27T20:33:57.240679Z"
    },
    "hidden": true
   },
   "outputs": [
    {
     "data": {
      "text/plain": [
       "(40000, 2000)"
      ]
     },
     "execution_count": 48,
     "metadata": {},
     "output_type": "execute_result"
    }
   ],
   "source": [
    "# Checking for the correct amount of samples\n",
    "len(dls.train_ds), len(dls.valid_ds)"
   ]
  },
  {
   "cell_type": "markdown",
   "metadata": {
    "hidden": true
   },
   "source": [
    "> Note: Looks good! We still have our 40k training samples and 2k validation samples :)"
   ]
  },
  {
   "cell_type": "code",
   "execution_count": 49,
   "metadata": {
    "ExecuteTime": {
     "end_time": "2021-06-27T20:33:57.252112Z",
     "start_time": "2021-06-27T20:33:57.245018Z"
    },
    "hidden": true,
    "scrolled": true
   },
   "outputs": [
    {
     "data": {
      "text/plain": [
       "(1250, 63)"
      ]
     },
     "execution_count": 49,
     "metadata": {},
     "output_type": "execute_result"
    }
   ],
   "source": [
    "# Number of batches\n",
    "len(dls.train), len(dls.valid)"
   ]
  },
  {
   "cell_type": "code",
   "execution_count": 50,
   "metadata": {
    "ExecuteTime": {
     "end_time": "2021-06-27T20:33:57.346166Z",
     "start_time": "2021-06-27T20:33:57.253199Z"
    },
    "hidden": true
   },
   "outputs": [
    {
     "data": {
      "text/html": [
       "<table border=\"1\" class=\"dataframe\">\n",
       "  <thead>\n",
       "    <tr style=\"text-align: right;\">\n",
       "      <th></th>\n",
       "      <th>text</th>\n",
       "      <th>category</th>\n",
       "    </tr>\n",
       "  </thead>\n",
       "  <tbody>\n",
       "    <tr>\n",
       "      <th>0</th>\n",
       "      <td>xxbos xxup buyer xxup beware ! ! ! yes xxup the xxup diapers xxup are xxup good xxup but i xxup received xxup the xxup diapers xxup with xxup stains xxup they xxup look xxup like xxup dna xxup stains . xxup so i xxup call xxup the xxup company xxup and xxup they xxup instruct xxup me xxup to xxup xxunk xxup them xxup away xxup all 200 xxup diapers xxup wow . xxup so i xxup wait xxup in xxup the xxup mail xxup for xxup some xxup coupons xxup they xxup are xxup supposed xxup to xxup send xxup me xxup and xxup turns xxup out i xxup have xxup to xxup spend xxup more xxup money xxup in xxup order xxup to xxup get xxup the xxup diapers i xxup had xxup already xxup paid xxup for . xxup so i xxup call xxup company xxup</td>\n",
       "      <td>1</td>\n",
       "    </tr>\n",
       "    <tr>\n",
       "      <th>1</th>\n",
       "      <td>xxbos xxup this xxup is xxup one xxup of xxup the xxup stupidest , xxup silly , xxup totally xxup xxunk xxup movies i xxup have xxup ever xxup seen . i xxup have xxup always xxup loved xxunk disasters xxup in xxup nature xxup movies xxunk . i xxup was xxup not xxup disapointed . xxup this xxup was xxup truly a xxup horrific xxup catastrophe . xxup the xxup best xxup part xxup of xxup the xxup movie xxup was xxunk xxunk was xxunk xxunk xxup was xxunk xxunk i xxup am xxup getting xxup there xxunk xxunk xxunk xxunk xxunk xxup the xxup story xxup had xxup no xxup meaning . xxup xxunk xxup xxunk xxup should xxup sell xxup xxunk xxup tickets xxup the xxup next xxup time xxup she xxup needs xxup money . xxup her xxup talents xxup were xxup totally xxup wasted .</td>\n",
       "      <td>1</td>\n",
       "    </tr>\n",
       "    <tr>\n",
       "      <th>2</th>\n",
       "      <td>xxbos xxup if xxup you xxup take a xxup look xxup at xxup the 1 xxup star xxup review , i xxup am xxup the xxup one xxup that xxup left a xxup comment xxup in xxup favor , xxup but xxup wondering xxup why xxup they xxup left xxup only xxup one xxup star . xxup it xxup had xxup to xxup be a xxup mistake xxup because xxup she xxup gave xxup it a xxunk haunting xxunk xxup review , xxup if xxup not xxup too xxup short . xxup the xxup tune xxunk ' estate ' xxup is xxup with xxup out a xxup doubt a xxup five xxup star xxup tune . xxup in xxup fact , xxup one xxup of xxup the xxup most xxup beautiful xxup jazz xxup vocal xxup numbers i xxup can xxup remember xxup hearing . xxup however , xxup the</td>\n",
       "      <td>2</td>\n",
       "    </tr>\n",
       "    <tr>\n",
       "      <th>3</th>\n",
       "      <td>xxbos xxmaj some may ask why , but i say bring on a collection like this . xxmaj why not ? xxmaj this is xxunk music . xxmaj is it techno or electronica , who cares , just dance and enjoy . xxmaj my biggest complaints are , why six tracks from xxunk homework xxunk , and only three from xxunk discovery xxunk ? xxmaj also , some of these songs like xxunk rollin ' &amp; xxmaj xxunk ' xxunk and xxunk robot xxmaj rock xxunk are xxup so repetitive ( i know that xxunk the point ) , they get old by the three minute mark . xxmaj yet , other tracks like xxunk around xxmaj the xxmaj world xxunk and xxunk one xxmaj more xxmaj time xxunk are perfection , hence the classics they are . xxmaj one other disappointment xxunk xxunk the hell is xxunk digital xxmaj</td>\n",
       "      <td>2</td>\n",
       "    </tr>\n",
       "    <tr>\n",
       "      <th>4</th>\n",
       "      <td>xxbos i absolutely loved this xxup cd and i think everyone in america should own a copy ( or maybe xxunk and my friends have been behind clay since the beginning ( well almost the beginning ) and were so excited when he got back on in the wild card show . i was so excited when this xxup cd came out . i love every song on this xxup cd and listen to it 24 / 7 ( more like 25 / xxunk ! xxmaj this is by far the best xxup cd i xxunk bought in years . xxmaj it was worth every penny . i ca nt wait for clays next xxup cd ! xxmaj people of all ages can enjoy clay xxunk music . xxmaj some of my favorites are xxmaj invisible , i will carry you , the way , when you say you love</td>\n",
       "      <td>2</td>\n",
       "    </tr>\n",
       "    <tr>\n",
       "      <th>5</th>\n",
       "      <td>xxbos xxmaj this is one of the worst books in the world xxrep 3 - in my humble opinion ! xxup ok , xxmaj i xxunk in the minority . xxmaj most of the reviewers xxup loved the book . i think this book is a waste of beautiful words ! xxmaj yes , xxmaj conrad had a beautiful xxmaj english vocabulary . xxmaj but , the xxunk story xxunk is xxunk xxunk xxunk with so many words you xxunk tire of it after awhile . xxup ok , try the book , but now , at least , you xxunk xxunk feel as i did , xxunk what xxunk wrong with xxup me that i do xxunk like this book . xxunk xxmaj you xxunk xxunk feel xxunk alone xxunk in your reaction . i think xxunk heart of xxmaj darkness xxunk is a much better book . xxmaj</td>\n",
       "      <td>1</td>\n",
       "    </tr>\n",
       "    <tr>\n",
       "      <th>6</th>\n",
       "      <td>xxbos xxmaj first , xxmaj i xxunk read all the books in the series and enjoyed them . xxmaj okay xxunk plains of xxmaj passage xxunk was a boring read but not too bad . xxmaj in xxunk the xxmaj shelters of xxmaj stone xxunk xxmaj jean xxmaj auel makes xxmaj ayla out to be some kind of super - woman , who invented open heart surgery to figuring out xxunk where babies come from . xxunk xxunk ? xxmaj it xxunk gone too far . i think the long wait between books as made me lose interest . xxmaj either that or xxmaj ms . xxmaj auel ca xxunk write xxmaj ayla anymore . xxmaj she lost her momentum . xxmaj at the beginning it was fun to see xxmaj ayla invent all this stuff , but the fun is gone . i suppose this can happen with a</td>\n",
       "      <td>1</td>\n",
       "    </tr>\n",
       "    <tr>\n",
       "      <th>7</th>\n",
       "      <td>xxbos i am like you at this very moment , you do xxunk want to believe the reviews you are reading . . xxunk they are xxup xxunk read all the reviews here before i purchased xxunk anne of xxmaj green gables - the xxmaj continuing xxmaj story xxunk . i did xxunk want to believe what i read , because this is xxmaj anne of xxmaj green xxmaj gables , the last two videos were xxup great , why would xxunk this one be too ? xxup it xxup is xxup not xxup worth xxup it ! , please trust me on xxunk beginning part of the movie is really nice to watch . . xxunk the war begins , xxmaj gilbert leaves and xxmaj anne leaves to go find xxmaj gilbert . xxmaj and i am waiting and waiting for xxmaj anne to come back to xxmaj avonlea</td>\n",
       "      <td>1</td>\n",
       "    </tr>\n",
       "    <tr>\n",
       "      <th>8</th>\n",
       "      <td>xxbos xxmaj chris xxunk . xxmaj chris was my next door neighbor on 13th floor of xxmaj xxunk hall at xxmaj xxunk xxmaj state xxmaj university in 1977 . xxmaj chris xxunk favorite album was xxunk smoke xxmaj from a xxmaj distant xxmaj fire xxunk from the xxmaj sandford and xxmaj townsend xxmaj band . i listened to it so much when i was in college in xxmaj chris xxunk room that i learned each one of the ten songs by heart . xxmaj try listening to the ending fugue of xxunk squire xxmaj james xxunk at 3 xxunk sometime when you xxunk been up all night partying - it was enough to make you rethink your xxunk youth . xxmaj the lyrics of this album are sometimes repetitive and simplistic . xxmaj for example , count the number of times the themes of smoke , fire , burning ,</td>\n",
       "      <td>2</td>\n",
       "    </tr>\n",
       "  </tbody>\n",
       "</table>"
      ],
      "text/plain": [
       "<IPython.core.display.HTML object>"
      ]
     },
     "metadata": {},
     "output_type": "display_data"
    }
   ],
   "source": [
    "dls.train.show_batch()"
   ]
  },
  {
   "cell_type": "markdown",
   "metadata": {
    "hidden": true
   },
   "source": [
    "> Tip: Take a close look at the samples above! We can see that we're not using a simple tokenizer that just separates on spaces anymore! This tokenizer has lots of additional special tokens and special rules to help with better feature/token engeineering! (e.g. `xxbos` -> beginning of a text, and `xxmaj` -> next word capitalized) More can be found here in [chapter 10 from fastbook](https://github.com/fastai/fastbook/blob/master/10_nlp.ipynb)"
   ]
  },
  {
   "cell_type": "code",
   "execution_count": 51,
   "metadata": {
    "ExecuteTime": {
     "end_time": "2021-06-27T20:33:57.940579Z",
     "start_time": "2021-06-27T20:33:57.347338Z"
    },
    "hidden": true
   },
   "outputs": [],
   "source": [
    "learn = text_classifier_learner(dls, AWD_LSTM, metrics=[accuracy])"
   ]
  },
  {
   "cell_type": "markdown",
   "metadata": {
    "hidden": true
   },
   "source": [
    "> Note: We'll be using the [AWD-LSTM](https://docs.fast.ai/text.models.awdlstm.html#AWD_LSTM) language model as our pretrained model to finetune!"
   ]
  },
  {
   "cell_type": "code",
   "execution_count": 52,
   "metadata": {
    "ExecuteTime": {
     "end_time": "2021-06-27T20:34:03.177676Z",
     "start_time": "2021-06-27T20:33:57.941768Z"
    },
    "hidden": true
   },
   "outputs": [
    {
     "data": {
      "text/html": [],
      "text/plain": [
       "<IPython.core.display.HTML object>"
      ]
     },
     "metadata": {},
     "output_type": "display_data"
    },
    {
     "data": {
      "text/plain": [
       "SuggestedLRs(valley=tensor(0.0036))"
      ]
     },
     "execution_count": 52,
     "metadata": {},
     "output_type": "execute_result"
    },
    {
     "data": {
      "image/png": "[encoded data removed]",
      "text/plain": [
       "<Figure size 432x288 with 1 Axes>"
      ]
     },
     "metadata": {
      "needs_background": "light"
     },
     "output_type": "display_data"
    }
   ],
   "source": [
    "learn.lr_find()"
   ]
  },
  {
   "cell_type": "code",
   "execution_count": 53,
   "metadata": {
    "ExecuteTime": {
     "end_time": "2021-06-27T20:44:18.599517Z",
     "start_time": "2021-06-27T20:34:03.179026Z"
    },
    "hidden": true
   },
   "outputs": [
    {
     "data": {
      "text/html": [
       "<table border=\"1\" class=\"dataframe\">\n",
       "  <thead>\n",
       "    <tr style=\"text-align: left;\">\n",
       "      <th>epoch</th>\n",
       "      <th>train_loss</th>\n",
       "      <th>valid_loss</th>\n",
       "      <th>accuracy</th>\n",
       "      <th>time</th>\n",
       "    </tr>\n",
       "  </thead>\n",
       "  <tbody>\n",
       "    <tr>\n",
       "      <td>0</td>\n",
       "      <td>0.510850</td>\n",
       "      <td>0.458526</td>\n",
       "      <td>0.777000</td>\n",
       "      <td>00:45</td>\n",
       "    </tr>\n",
       "  </tbody>\n",
       "</table>"
      ],
      "text/plain": [
       "<IPython.core.display.HTML object>"
      ]
     },
     "metadata": {},
     "output_type": "display_data"
    },
    {
     "data": {
      "text/html": [
       "<table border=\"1\" class=\"dataframe\">\n",
       "  <thead>\n",
       "    <tr style=\"text-align: left;\">\n",
       "      <th>epoch</th>\n",
       "      <th>train_loss</th>\n",
       "      <th>valid_loss</th>\n",
       "      <th>accuracy</th>\n",
       "      <th>time</th>\n",
       "    </tr>\n",
       "  </thead>\n",
       "  <tbody>\n",
       "    <tr>\n",
       "      <td>0</td>\n",
       "      <td>0.391805</td>\n",
       "      <td>0.325548</td>\n",
       "      <td>0.858000</td>\n",
       "      <td>01:53</td>\n",
       "    </tr>\n",
       "    <tr>\n",
       "      <td>1</td>\n",
       "      <td>0.323382</td>\n",
       "      <td>0.286508</td>\n",
       "      <td>0.883500</td>\n",
       "      <td>01:53</td>\n",
       "    </tr>\n",
       "    <tr>\n",
       "      <td>2</td>\n",
       "      <td>0.265536</td>\n",
       "      <td>0.264187</td>\n",
       "      <td>0.892000</td>\n",
       "      <td>01:54</td>\n",
       "    </tr>\n",
       "    <tr>\n",
       "      <td>3</td>\n",
       "      <td>0.230185</td>\n",
       "      <td>0.256429</td>\n",
       "      <td>0.898500</td>\n",
       "      <td>01:54</td>\n",
       "    </tr>\n",
       "    <tr>\n",
       "      <td>4</td>\n",
       "      <td>0.202922</td>\n",
       "      <td>0.268608</td>\n",
       "      <td>0.897500</td>\n",
       "      <td>01:54</td>\n",
       "    </tr>\n",
       "  </tbody>\n",
       "</table>"
      ],
      "text/plain": [
       "<IPython.core.display.HTML object>"
      ]
     },
     "metadata": {},
     "output_type": "display_data"
    }
   ],
   "source": [
    "learn.fine_tune(5, base_lr=3e-3)"
   ]
  },
  {
   "cell_type": "markdown",
   "metadata": {
    "hidden": true
   },
   "source": [
    "> Important: Compare the results of this model with the previous one we built with pure PyTorch. We can see regularization come into effect!"
   ]
  },
  {
   "cell_type": "markdown",
   "metadata": {
    "heading_collapsed": true
   },
   "source": [
    "# 7. Using a Language Model via DistilBERT [HuggingFace & PyTorch & fastai]"
   ]
  },
  {
   "cell_type": "markdown",
   "metadata": {
    "hidden": true
   },
   "source": [
    "We can load up a tokenizer and transformer from [HuggingFace's Transformers API](https://huggingface.co/transformers/) and train them using fastai! We'll be using [DistilBERT](https://huggingface.co/transformers/model_doc/distilbert.html) as it's smaller and faster than the original [BERT](https://huggingface.co/transformers/model_doc/bert.html)."
   ]
  },
  {
   "cell_type": "markdown",
   "metadata": {
    "hidden": true
   },
   "source": [
    "> \"[DistilBERT](https://huggingface.co/transformers/model_doc/distilbert.html) is a small, fast, cheap and light Transformer model trained by distilling BERT base. It has 40% less parameters than `bert-base-uncased`, runs 60% faster while preserving over 95% of BERT’s performances as measured on the GLUE language understanding benchmark.\""
   ]
  },
  {
   "cell_type": "code",
   "execution_count": null,
   "metadata": {
    "ExecuteTime": {
     "end_time": "2021-06-27T21:14:24.545324Z",
     "start_time": "2021-06-27T21:14:20.220130Z"
    },
    "hidden": true
   },
   "outputs": [],
   "source": [
    "from transformers import AutoTokenizer, AutoModelForSequenceClassification\n",
    "\n",
    "hf_tokenizer = AutoTokenizer.from_pretrained(\"distilbert-base-uncased\")\n",
    "hf_model = AutoModelForSequenceClassification.from_pretrained(\"distilbert-base-uncased\")"
   ]
  },
  {
   "cell_type": "code",
   "execution_count": 34,
   "metadata": {
    "ExecuteTime": {
     "end_time": "2021-06-27T21:14:24.549467Z",
     "start_time": "2021-06-27T21:14:24.546787Z"
    },
    "hidden": true,
    "scrolled": true
   },
   "outputs": [
    {
     "data": {
      "text/plain": [
       "'This sound track was beautiful! It paints the senery in your mind so well I would recomend it even to people who hate vid. game music! I have played the game Chrono Cross but out of all of the games I have ever played it has the best music! It backs away from crude keyboarding and takes a fresher step with grate guitars and soulful orchestras. It would impress anyone who cares to listen! ^_^'"
      ]
     },
     "execution_count": 34,
     "metadata": {},
     "output_type": "execute_result"
    }
   ],
   "source": [
    "sample_text = train_df['text'][0]\n",
    "sample_text"
   ]
  },
  {
   "cell_type": "code",
   "execution_count": 35,
   "metadata": {
    "ExecuteTime": {
     "end_time": "2021-06-27T21:14:24.560770Z",
     "start_time": "2021-06-27T21:14:24.550527Z"
    },
    "hidden": true,
    "scrolled": true
   },
   "outputs": [
    {
     "data": {
      "text/plain": [
       "{'input_ids': tensor([[  101,  2023,  2614,  2650,  2001,  3376,   999,  2009, 23262,  1996,\n",
       "         12411,  7301,  1999,  2115,  2568,  2061,  2092,  1045,  2052, 28667,\n",
       "          8462,  4859,  2009,  2130,  2000,  2111,  2040,  5223,  6819,  2094,\n",
       "          1012,  2208,  2189,   999,  1045,  2031,  2209,  1996,  2208, 10381,\n",
       "          4948,  2080,  2892,  2021,  2041,  1997,  2035,  1997,  1996,  2399,\n",
       "          1045,  2031,  2412,  2209,  2009,  2038,  1996,  2190,  2189,   999,\n",
       "          2009, 10457,  2185,  2013, 13587,  9019,  2075,  1998,  3138,  1037,\n",
       "          4840,  2121,  3357,  2007, 24665,  3686,  7334,  1998,  3969,  3993,\n",
       "         19505,  1012,  2009,  2052, 17894,  3087,  2040, 14977,  2000,  4952,\n",
       "           999,  1034,  1035,  1034,   102]]), 'attention_mask': tensor([[1, 1, 1, 1, 1, 1, 1, 1, 1, 1, 1, 1, 1, 1, 1, 1, 1, 1, 1, 1, 1, 1, 1, 1,\n",
       "         1, 1, 1, 1, 1, 1, 1, 1, 1, 1, 1, 1, 1, 1, 1, 1, 1, 1, 1, 1, 1, 1, 1, 1,\n",
       "         1, 1, 1, 1, 1, 1, 1, 1, 1, 1, 1, 1, 1, 1, 1, 1, 1, 1, 1, 1, 1, 1, 1, 1,\n",
       "         1, 1, 1, 1, 1, 1, 1, 1, 1, 1, 1, 1, 1, 1, 1, 1, 1, 1, 1, 1, 1, 1, 1]])}"
      ]
     },
     "execution_count": 35,
     "metadata": {},
     "output_type": "execute_result"
    }
   ],
   "source": [
    "tokenizer_outputs = hf_tokenizer(sample_text, return_tensors=\"pt\")\n",
    "tokenizer_outputs"
   ]
  },
  {
   "cell_type": "code",
   "execution_count": 36,
   "metadata": {
    "ExecuteTime": {
     "end_time": "2021-06-27T21:14:24.569287Z",
     "start_time": "2021-06-27T21:14:24.565777Z"
    },
    "hidden": true
   },
   "outputs": [
    {
     "data": {
      "text/plain": [
       "(torch.Size([1, 95]), torch.Size([1, 95]))"
      ]
     },
     "execution_count": 36,
     "metadata": {},
     "output_type": "execute_result"
    }
   ],
   "source": [
    "tokenizer_outputs['input_ids'].shape, tokenizer_outputs['attention_mask'].shape"
   ]
  },
  {
   "cell_type": "markdown",
   "metadata": {
    "hidden": true
   },
   "source": [
    "> Note: We can see that bert's tokenizer returns 2 items, `input_ids` (numericalization of tokens) and `attention_mask` (manually lets you control attention on specific tokens). DistilBERT will take both of these as input!"
   ]
  },
  {
   "cell_type": "markdown",
   "metadata": {
    "hidden": true
   },
   "source": [
    "Let's go ahead and put this into another dataset class:"
   ]
  },
  {
   "cell_type": "code",
   "execution_count": 37,
   "metadata": {
    "ExecuteTime": {
     "end_time": "2021-06-27T21:14:24.584389Z",
     "start_time": "2021-06-27T21:14:24.570394Z"
    },
    "hidden": true
   },
   "outputs": [],
   "source": [
    "#collapse\n",
    "class HF_Dataset(torch.utils.data.Dataset):\n",
    "    def __init__(self, df, hf_tokenizer):\n",
    "        self.df = df\n",
    "        self.hf_tokenizer = hf_tokenizer\n",
    "        \n",
    "        # label 1 is negative sentiment and label 2 is positive sentiment\n",
    "        self.label_map = {1:0, 2:1}\n",
    "        \n",
    "    def __len__(self):\n",
    "        return len(self.df)\n",
    "\n",
    "    def decode(self, token_ids):\n",
    "        return ' '.join([hf_tokenizer.decode(x) for x in tokenizer_outputs['input_ids']])\n",
    "    \n",
    "    def decode_to_original(self, token_ids):\n",
    "        return self.hf_tokenizer.decode(token_ids.squeeze())\n",
    "\n",
    "    def __getitem__(self, index):\n",
    "        label, title, text = self.df.iloc[index]\n",
    "        label = self.label_map[label]\n",
    "        label = torch.tensor(label)\n",
    "\n",
    "        tokenizer_output = self.hf_tokenizer(text, return_tensors=\"pt\", padding='max_length', truncation=True, max_length=512)\n",
    "        \n",
    "        tokenizer_output['input_ids'].squeeze_()\n",
    "        tokenizer_output['attention_mask'].squeeze_()\n",
    "        \n",
    "        return tokenizer_output, label"
   ]
  },
  {
   "cell_type": "code",
   "execution_count": 38,
   "metadata": {
    "ExecuteTime": {
     "end_time": "2021-06-27T21:14:24.593478Z",
     "start_time": "2021-06-27T21:14:24.585561Z"
    },
    "hidden": true
   },
   "outputs": [
    {
     "data": {
      "text/plain": [
       "(40000, 2000)"
      ]
     },
     "execution_count": 38,
     "metadata": {},
     "output_type": "execute_result"
    }
   ],
   "source": [
    "train_dataset = HF_Dataset(train_df, hf_tokenizer)\n",
    "valid_dataset = HF_Dataset(valid_df, hf_tokenizer)\n",
    "len(train_dataset), len(valid_dataset)"
   ]
  },
  {
   "cell_type": "code",
   "execution_count": 39,
   "metadata": {
    "ExecuteTime": {
     "end_time": "2021-06-27T21:14:24.604189Z",
     "start_time": "2021-06-27T21:14:24.594407Z"
    },
    "hidden": true
   },
   "outputs": [
    {
     "data": {
      "text/plain": [
       "(dict_keys(['input_ids', 'attention_mask']), tensor(1))"
      ]
     },
     "execution_count": 39,
     "metadata": {},
     "output_type": "execute_result"
    }
   ],
   "source": [
    "tokenizer_outputs, label = train_dataset[0]\n",
    "tokenizer_outputs.keys(), label"
   ]
  },
  {
   "cell_type": "code",
   "execution_count": 40,
   "metadata": {
    "ExecuteTime": {
     "end_time": "2021-06-27T21:14:24.615627Z",
     "start_time": "2021-06-27T21:14:24.605194Z"
    },
    "hidden": true
   },
   "outputs": [
    {
     "data": {
      "text/plain": [
       "'[CLS] this sound track was beautiful ! it paints the sen ##ery in your mind so well i would rec ##ome ##nd it even to people who hate vi ##d . game music ! i have played the game ch ##ron ##o cross but out of all of the games i have ever played it has the best music ! it backs away from crude keyboard ##ing and takes a fresh ##er step with gr ##ate guitars and soul ##ful orchestras . it would impress anyone who cares to listen ! ^ _ ^ [SEP] [PAD] [PAD] [PAD] [PAD] [PAD] [PAD] [PAD] [PAD] [PAD] ['"
      ]
     },
     "execution_count": 40,
     "metadata": {},
     "output_type": "execute_result"
    }
   ],
   "source": [
    "# Only printing first 500 characters due to the excess [PAD] tokens!\n",
    "train_dataset.decode(tokenizer_outputs['input_ids'])[:500]"
   ]
  },
  {
   "cell_type": "markdown",
   "metadata": {
    "hidden": true
   },
   "source": [
    "> Tip: Notice how DistilBERT also has a more efficient tokenizer compared to the standard tokenizer we used at the start. We can see it's using subword tokenization (e.g. `keyboarding` -> `keyboard` `##ing`, as well as `fresher` -> `fresh` `##er`)"
   ]
  },
  {
   "cell_type": "markdown",
   "metadata": {
    "hidden": true
   },
   "source": [
    "Here's the original input (tokens decoded, but without the subword tokenization showing):"
   ]
  },
  {
   "cell_type": "code",
   "execution_count": 41,
   "metadata": {
    "ExecuteTime": {
     "end_time": "2021-06-27T21:14:24.619233Z",
     "start_time": "2021-06-27T21:14:24.616592Z"
    },
    "hidden": true
   },
   "outputs": [
    {
     "data": {
      "text/plain": [
       "'[CLS] this sound track was beautiful! it paints the senery in your mind so well i would recomend it even to people who hate vid. game music! i have played the game chrono cross but out of all of the games i have ever played it has the best music! it backs away from crude keyboarding and takes a fresher step with grate guitars and soulful orchestras. it would impress anyone who cares to listen! ^ _ ^ [SEP] [PAD] [PAD] [PAD] [PAD] [PAD] [PAD] [PAD] [PAD] [PAD] [PAD] [PAD] [PAD] [PAD] [PAD] [PAD] ['"
      ]
     },
     "execution_count": 41,
     "metadata": {},
     "output_type": "execute_result"
    }
   ],
   "source": [
    "# Only printing first 500 characters due to the excess [PAD] tokens!\n",
    "train_dataset.decode_to_original(tokenizer_outputs['input_ids'])[:500]"
   ]
  },
  {
   "cell_type": "code",
   "execution_count": 42,
   "metadata": {
    "ExecuteTime": {
     "end_time": "2021-06-27T21:14:24.627760Z",
     "start_time": "2021-06-27T21:14:24.620390Z"
    },
    "hidden": true,
    "run_control": {
     "marked": false
    }
   },
   "outputs": [],
   "source": [
    "train_dl = DataLoader(train_dataset, bs=16, shuffle=True)\n",
    "valid_dl = DataLoader(valid_dataset, bs=16)\n",
    "dls = DataLoaders(train_dl, valid_dl)"
   ]
  },
  {
   "cell_type": "markdown",
   "metadata": {
    "hidden": true
   },
   "source": [
    "Let's make sure that items within the `tokenizer_outputs` dictionary can get batched together properly:"
   ]
  },
  {
   "cell_type": "code",
   "execution_count": 43,
   "metadata": {
    "ExecuteTime": {
     "end_time": "2021-06-27T21:14:24.673963Z",
     "start_time": "2021-06-27T21:14:24.628878Z"
    },
    "hidden": true
   },
   "outputs": [
    {
     "data": {
      "text/plain": [
       "(dict_keys(['input_ids', 'attention_mask']),\n",
       " torch.Size([16, 512]),\n",
       " torch.Size([16]))"
      ]
     },
     "execution_count": 43,
     "metadata": {},
     "output_type": "execute_result"
    }
   ],
   "source": [
    "# Making sure things are getting batched correctly!\n",
    "batched_data, batched_labels = train_dl.one_batch()\n",
    "batched_data.keys(), batched_data['input_ids'].shape, batched_labels.shape"
   ]
  },
  {
   "cell_type": "markdown",
   "metadata": {
    "hidden": true
   },
   "source": [
    "To allow this model to be trained by fastai, we need to ensure that the model simply takes a single input, and returns the logits. We can create a small class to handle the intermediate stuff (like the decoupling of tokenizer_outputs via `**tokenizer_outputs`, and extracting the logits from the model output via `.logits`. Here's an example of a forward pass using HF's tokenizer and model:"
   ]
  },
  {
   "cell_type": "code",
   "execution_count": 44,
   "metadata": {
    "ExecuteTime": {
     "end_time": "2021-06-27T21:14:26.734120Z",
     "start_time": "2021-06-27T21:14:24.675136Z"
    },
    "hidden": true,
    "scrolled": true
   },
   "outputs": [
    {
     "data": {
      "text/plain": [
       "SequenceClassifierOutput(loss=None, logits=tensor([[-0.0196, -0.0800],\n",
       "        [-0.1307, -0.0872],\n",
       "        [-0.0604, -0.0986],\n",
       "        [-0.1189, -0.0459],\n",
       "        [-0.0588, -0.0984],\n",
       "        [-0.0342, -0.0900],\n",
       "        [-0.1314, -0.1056],\n",
       "        [ 0.0286, -0.0227],\n",
       "        [-0.0680, -0.0357],\n",
       "        [-0.0157, -0.0817],\n",
       "        [-0.0831, -0.0794],\n",
       "        [-0.0725, -0.0759],\n",
       "        [-0.0438, -0.1197],\n",
       "        [-0.0845, -0.1267],\n",
       "        [-0.0698, -0.0478],\n",
       "        [-0.1017, -0.0566]], grad_fn=<AddmmBackward>), hidden_states=None, attentions=None)"
      ]
     },
     "execution_count": 44,
     "metadata": {},
     "output_type": "execute_result"
    }
   ],
   "source": [
    "hf_model(**batched_data)"
   ]
  },
  {
   "cell_type": "code",
   "execution_count": 45,
   "metadata": {
    "ExecuteTime": {
     "end_time": "2021-06-27T21:14:26.739565Z",
     "start_time": "2021-06-27T21:14:26.735977Z"
    },
    "hidden": true
   },
   "outputs": [],
   "source": [
    "#collapse\n",
    "class HF_Model(nn.Module):\n",
    "  \n",
    "    def __init__(self, hf_model):\n",
    "        super().__init__()\n",
    "        \n",
    "        self.hf_model = hf_model\n",
    "        \n",
    "    def forward(self, tokenizer_outputs):\n",
    "        \n",
    "        model_output = self.hf_model(**tokenizer_outputs)\n",
    "        \n",
    "        return model_output.logits"
   ]
  },
  {
   "cell_type": "code",
   "execution_count": 46,
   "metadata": {
    "ExecuteTime": {
     "end_time": "2021-06-27T21:14:26.747335Z",
     "start_time": "2021-06-27T21:14:26.740546Z"
    },
    "hidden": true
   },
   "outputs": [],
   "source": [
    "model = HF_Model(hf_model)"
   ]
  },
  {
   "cell_type": "markdown",
   "metadata": {
    "hidden": true
   },
   "source": [
    "With the same data, here's an example of a forward pass with our small wrapper over the `hf_model`"
   ]
  },
  {
   "cell_type": "code",
   "execution_count": 47,
   "metadata": {
    "ExecuteTime": {
     "end_time": "2021-06-27T21:14:28.544488Z",
     "start_time": "2021-06-27T21:14:26.748354Z"
    },
    "hidden": true
   },
   "outputs": [
    {
     "data": {
      "text/plain": [
       "tensor([[-0.0196, -0.0800],\n",
       "        [-0.1307, -0.0872],\n",
       "        [-0.0604, -0.0986],\n",
       "        [-0.1189, -0.0459],\n",
       "        [-0.0588, -0.0984],\n",
       "        [-0.0342, -0.0900],\n",
       "        [-0.1314, -0.1056],\n",
       "        [ 0.0286, -0.0227],\n",
       "        [-0.0680, -0.0357],\n",
       "        [-0.0157, -0.0817],\n",
       "        [-0.0831, -0.0794],\n",
       "        [-0.0725, -0.0759],\n",
       "        [-0.0438, -0.1197],\n",
       "        [-0.0845, -0.1267],\n",
       "        [-0.0698, -0.0478],\n",
       "        [-0.1017, -0.0566]], grad_fn=<AddmmBackward>)"
      ]
     },
     "execution_count": 47,
     "metadata": {},
     "output_type": "execute_result"
    }
   ],
   "source": [
    "logits = model(batched_data)\n",
    "logits"
   ]
  },
  {
   "cell_type": "markdown",
   "metadata": {
    "hidden": true
   },
   "source": [
    "> Note: We no longer need double asteriks for decoupling the input data dictionary, and we don't need to extract the logits from the output via `.logits` This allows for easy compatability with `fastai`'s `Learner` class"
   ]
  },
  {
   "cell_type": "markdown",
   "metadata": {
    "hidden": true
   },
   "source": [
    "We have everything we need to finetune this model now!"
   ]
  },
  {
   "cell_type": "code",
   "execution_count": 48,
   "metadata": {
    "ExecuteTime": {
     "end_time": "2021-06-27T21:14:30.464999Z",
     "start_time": "2021-06-27T21:14:28.545596Z"
    },
    "hidden": true
   },
   "outputs": [],
   "source": [
    "# Manually popping the model onto the gpu since the data is in a dictionary format\n",
    "# (doesn't automatically place model + data on gpu otherwise)\n",
    "learn = Learner(dls, model.cuda(), loss_func=nn.CrossEntropyLoss(), metrics=[accuracy])"
   ]
  },
  {
   "cell_type": "code",
   "execution_count": 49,
   "metadata": {
    "ExecuteTime": {
     "end_time": "2021-06-27T21:15:05.705385Z",
     "start_time": "2021-06-27T21:14:30.466494Z"
    },
    "hidden": true,
    "scrolled": true
   },
   "outputs": [
    {
     "data": {
      "text/html": [],
      "text/plain": [
       "<IPython.core.display.HTML object>"
      ]
     },
     "metadata": {},
     "output_type": "display_data"
    },
    {
     "data": {
      "text/plain": [
       "SuggestedLRs(valley=tensor(3.6308e-05))"
      ]
     },
     "execution_count": 49,
     "metadata": {},
     "output_type": "execute_result"
    },
    {
     "data": {
      "image/png": "[encoded data removed]",
      "text/plain": [
       "<Figure size 432x288 with 1 Axes>"
      ]
     },
     "metadata": {
      "needs_background": "light"
     },
     "output_type": "display_data"
    }
   ],
   "source": [
    "learn.lr_find()"
   ]
  },
  {
   "cell_type": "code",
   "execution_count": 50,
   "metadata": {
    "ExecuteTime": {
     "end_time": "2021-06-27T22:03:06.470909Z",
     "start_time": "2021-06-27T21:15:13.666108Z"
    },
    "hidden": true
   },
   "outputs": [
    {
     "data": {
      "text/html": [
       "<table border=\"1\" class=\"dataframe\">\n",
       "  <thead>\n",
       "    <tr style=\"text-align: left;\">\n",
       "      <th>epoch</th>\n",
       "      <th>train_loss</th>\n",
       "      <th>valid_loss</th>\n",
       "      <th>accuracy</th>\n",
       "      <th>time</th>\n",
       "    </tr>\n",
       "  </thead>\n",
       "  <tbody>\n",
       "    <tr>\n",
       "      <td>0</td>\n",
       "      <td>0.240267</td>\n",
       "      <td>0.249942</td>\n",
       "      <td>0.897500</td>\n",
       "      <td>15:59</td>\n",
       "    </tr>\n",
       "    <tr>\n",
       "      <td>1</td>\n",
       "      <td>0.142634</td>\n",
       "      <td>0.211986</td>\n",
       "      <td>0.921000</td>\n",
       "      <td>15:56</td>\n",
       "    </tr>\n",
       "    <tr>\n",
       "      <td>2</td>\n",
       "      <td>0.068012</td>\n",
       "      <td>0.243243</td>\n",
       "      <td>0.926000</td>\n",
       "      <td>15:56</td>\n",
       "    </tr>\n",
       "  </tbody>\n",
       "</table>"
      ],
      "text/plain": [
       "<IPython.core.display.HTML object>"
      ]
     },
     "metadata": {},
     "output_type": "display_data"
    }
   ],
   "source": [
    "learn.fit_one_cycle(3, 1e-4)"
   ]
  },
  {
   "cell_type": "markdown",
   "metadata": {
    "heading_collapsed": true
   },
   "source": [
    "# 8. Conclusion"
   ]
  },
  {
   "cell_type": "markdown",
   "metadata": {
    "hidden": true
   },
   "source": [
    "- We can take models written in pure PyTorch, or take existing models from elsewhere (e.g. HuggingFace), and train them with ease within fastai.\n",
    "- NLP has lots of variation in terms of tokenization methods. In my personal opinion*, libaries like fastai & HuggingFace make the NLP data processing pipeline much easier/faster to get up and running!\n",
    "- Each method has it's pros and cons:\n",
    "  - DistilBERT may have performed better, but this model has a much much larger number of parameters and possibly a much larger vocabulary!\n",
    "  - The runtime of DistilBERT was also much longer. ~16 minutes epochs (for a distilled transformer) vs ~2 min epochs (for a recurrent model)\n",
    "  - In other tasks, it may be better to use a transformer, but for many common NLP tasks, sometimes a simpler/smaller model is good enough!\n",
    "  - Even though transformers feed-forward it's input sequences in parallel (through positional encoding + self attention), they can be slower than simple recurrent networks due to their large model sizes."
   ]
  },
  {
   "cell_type": "markdown",
   "metadata": {
    "hidden": true
   },
   "source": [
    "> Note: All the results in this blog post/notebook may differ between runs, and that a \"perfect\" hyperparameter search was not performed for any of these models. This tutorial was mainly done for showing examples of NLP pipelines using different libaries!"
   ]
  },
  {
   "cell_type": "markdown",
   "metadata": {
    "hidden": true
   },
   "source": [
    "Thanks for reading!!! 🙂"
   ]
  }
 ],
 "metadata": {
  "kernelspec": {
   "display_name": "Python 3",
   "language": "python",
   "name": "python3"
  },
  "language_info": {
   "codemirror_mode": {
    "name": "ipython",
    "version": 3
   },
   "file_extension": ".py",
   "mimetype": "text/x-python",
   "name": "python",
   "nbconvert_exporter": "python",
   "pygments_lexer": "ipython3",
   "version": "3.8.5"
  }
 },
 "nbformat": 4,
 "nbformat_minor": 5
}
